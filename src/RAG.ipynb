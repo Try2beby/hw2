{
 "cells": [
  {
   "cell_type": "code",
   "execution_count": 1,
   "metadata": {},
   "outputs": [],
   "source": [
    "import os\n",
    "from langchain.chat_models import ChatOpenAI\n",
    "\n",
    "from langchain.schema import SystemMessage, HumanMessage\n",
    "\n",
    "from langchain.document_loaders import PDFPlumberLoader\n",
    "from langchain.text_splitter import RecursiveCharacterTextSplitter\n",
    "\n",
    "from langchain.embeddings.openai import OpenAIEmbeddings\n",
    "from langchain.vectorstores import Chroma\n",
    "\n",
    "os.environ[\"OPENAI_API_KEY\"] = \"sk-LzwgVgu5xvNPpwoqCdeeVcAt7Tu7ZoZICXzzkheldIbXA60h\"\n",
    "os.environ[\"OPENAI_API_BASE\"] = \"https://api.chatanywhere.com.cn/v1\"\n",
    "\n",
    "dataDir = \"../data/\"\n",
    "dataName = \"Deep Learning.pdf\""
   ]
  },
  {
   "cell_type": "markdown",
   "metadata": {},
   "source": [
    "# 1. 载入书本数据"
   ]
  },
  {
   "cell_type": "code",
   "execution_count": 2,
   "metadata": {},
   "outputs": [],
   "source": [
    "loader = PDFPlumberLoader(dataDir + dataName)\n",
    "\n",
    "pages = loader.load_and_split()"
   ]
  },
  {
   "cell_type": "markdown",
   "metadata": {},
   "source": [
    "# 1.1. 分段"
   ]
  },
  {
   "cell_type": "code",
   "execution_count": 3,
   "metadata": {},
   "outputs": [],
   "source": [
    "text_splitter = RecursiveCharacterTextSplitter(\n",
    "    chunk_size=500,\n",
    "    chunk_overlap=50,\n",
    ")\n",
    "\n",
    "docs = text_splitter.split_documents(pages)"
   ]
  },
  {
   "cell_type": "markdown",
   "metadata": {},
   "source": [
    "# 1.2. 向量化并存入向量数据库"
   ]
  },
  {
   "cell_type": "code",
   "execution_count": 4,
   "metadata": {},
   "outputs": [],
   "source": [
    "embed_model = OpenAIEmbeddings(\n",
    "    openai_api_base=os.environ[\"OPENAI_API_BASE\"],\n",
    "    openai_api_key=os.environ[\"OPENAI_API_KEY\"],\n",
    "    request_timeout=60,\n",
    ")\n",
    "vectorstore = Chroma.from_documents(\n",
    "    documents=docs, embedding=embed_model, collection_name=\"openai_embed\"\n",
    ")"
   ]
  },
  {
   "cell_type": "markdown",
   "metadata": {},
   "source": [
    "# 2. 定义Chat与System Prompt"
   ]
  },
  {
   "cell_type": "code",
   "execution_count": 5,
   "metadata": {},
   "outputs": [],
   "source": [
    "chat = ChatOpenAI(\n",
    "    openai_api_key=os.environ[\"OPENAI_API_KEY\"],\n",
    "    openai_api_base=os.environ[\"OPENAI_API_BASE\"],\n",
    "    model=\"gpt-3.5-turbo\",\n",
    ")"
   ]
  },
  {
   "cell_type": "code",
   "execution_count": 6,
   "metadata": {},
   "outputs": [],
   "source": [
    "relations = \"'based on', 'facet of', 'part of', 'instance of', 'subject of', 'subclass of', 'use'\"\n",
    "system_prompt = f\"\"\"\n",
    "Role:\n",
    "You are a relationship judgment specialist in the field of deep learning\n",
    "\n",
    "Missions:\n",
    "Given two entities, given the list of relations {relations}, determine what relationships are possible between the two entities, returning the top 3 most likely relationships\n",
    "\n",
    "Format:\n",
    "Please return in the following format:\n",
    "(relation1, relation2, relation3)\n",
    "\n",
    "Note:\n",
    "1. Do not return anything other than the result\n",
    "2. Use the relationship in the relationship list. Do not return other relationships\n",
    "\n",
    "\"\"\""
   ]
  },
  {
   "cell_type": "markdown",
   "metadata": {},
   "source": [
    "# 3. 利用检索数据增强Prompt"
   ]
  },
  {
   "cell_type": "code",
   "execution_count": 7,
   "metadata": {},
   "outputs": [],
   "source": [
    "def augment_prompt(query: str, topk=3):\n",
    "    # 获取topk的文本片段\n",
    "    results = vectorstore.similarity_search(query, k=topk)\n",
    "    source_knowledge = \"\\n\".join([x.page_content for x in results])\n",
    "    # 构建prompt\n",
    "    augmented_prompt = f\"\"\"Using the contexts below, answer the query.\n",
    "\n",
    "  contexts:\n",
    "  {source_knowledge}\n",
    "\n",
    "  query: {query}\"\"\"\n",
    "    return augmented_prompt"
   ]
  },
  {
   "cell_type": "markdown",
   "metadata": {},
   "source": [
    "# 4. 测试与输出"
   ]
  },
  {
   "cell_type": "code",
   "execution_count": 9,
   "metadata": {},
   "outputs": [],
   "source": [
    "def chat_RAG(RAG=True, query=NotImplemented):\n",
    "    messages = [\n",
    "    ]\n",
    "    if RAG:\n",
    "        prompt = HumanMessage(content=augment_prompt(query))\n",
    "    else:\n",
    "        prompt = HumanMessage(content=query)\n",
    "    messages.append(prompt)\n",
    "    res = chat(messages)\n",
    "\n",
    "    return res"
   ]
  },
  {
   "cell_type": "code",
   "execution_count": 10,
   "metadata": {},
   "outputs": [
    {
     "name": "stdout",
     "output_type": "stream",
     "text": [
      "without RAG:  content='MLP can refer to several different things:\\n\\n1. MLP can stand for \"My Little Pony,\" a franchise of toys, TV shows, and movies featuring colorful pony characters.\\n\\n2. MLP can also refer to \"Master Limited Partnership,\" a type of business structure in the United States that combines the tax benefits of a partnership with the liquidity of publicly traded securities.\\n\\n3. MLP can also mean \"Multilayer Perceptron,\" which is a type of artificial neural network used in machine learning and deep learning algorithms.\\n\\nIt\\'s important to specify the context when using the term MLP to avoid confusion.'\n",
      "with RAG:  content='MLP stands for Multi-Layer Perceptron.'\n"
     ]
    }
   ],
   "source": [
    "query = \"what is MLP\"\n",
    "print(\"without RAG: \", chat_RAG(RAG=False, query=query))\n",
    "print(\"with RAG: \", chat_RAG(RAG=True, query=query))"
   ]
  }
 ],
 "metadata": {
  "kernelspec": {
   "display_name": "Python 3",
   "language": "python",
   "name": "python3"
  },
  "language_info": {
   "codemirror_mode": {
    "name": "ipython",
    "version": 3
   },
   "file_extension": ".py",
   "mimetype": "text/x-python",
   "name": "python",
   "nbconvert_exporter": "python",
   "pygments_lexer": "ipython3",
   "version": "3.11.8"
  }
 },
 "nbformat": 4,
 "nbformat_minor": 2
}
