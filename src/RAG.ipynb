{
 "cells": [
  {
   "cell_type": "code",
   "execution_count": 65,
   "metadata": {},
   "outputs": [],
   "source": [
    "import os\n",
    "from langchain.chat_models import ChatOpenAI\n",
    "\n",
    "from langchain.schema import SystemMessage, HumanMessage\n",
    "\n",
    "from langchain.document_loaders import PDFPlumberLoader\n",
    "from langchain.text_splitter import RecursiveCharacterTextSplitter\n",
    "\n",
    "from langchain.embeddings.openai import OpenAIEmbeddings\n",
    "from langchain.vectorstores import Chroma\n",
    "\n",
    "os.environ[\"OPENAI_API_KEY\"] = \"sk-LzwgVgu5xvNPpwoqCdeeVcAt7Tu7ZoZICXzzkheldIbXA60h\"\n",
    "os.environ[\"OPENAI_API_BASE\"] = \"https://api.chatanywhere.com.cn/v1\"\n",
    "\n",
    "dataDir = \"../data/\"\n",
    "dataName = \"Deep Learning.pdf\""
   ]
  },
  {
   "cell_type": "markdown",
   "metadata": {},
   "source": [
    "# 1. 载入书本数据"
   ]
  },
  {
   "cell_type": "code",
   "execution_count": 79,
   "metadata": {},
   "outputs": [],
   "source": [
    "loader = PDFPlumberLoader(dataDir + dataName)\n",
    "\n",
    "pages = loader.load_and_split()"
   ]
  },
  {
   "cell_type": "markdown",
   "metadata": {},
   "source": [
    "# 1.1. 分段"
   ]
  },
  {
   "cell_type": "code",
   "execution_count": 81,
   "metadata": {},
   "outputs": [],
   "source": [
    "text_splitter = RecursiveCharacterTextSplitter(\n",
    "    chunk_size=500,\n",
    "    chunk_overlap=50,\n",
    ")\n",
    "\n",
    "docs = text_splitter.split_documents(pages)"
   ]
  },
  {
   "cell_type": "markdown",
   "metadata": {},
   "source": [
    "# 1.2. 向量化并存入向量数据库"
   ]
  },
  {
   "cell_type": "code",
   "execution_count": 82,
   "metadata": {},
   "outputs": [],
   "source": [
    "embed_model = OpenAIEmbeddings(\n",
    "    openai_api_base=os.environ[\"OPENAI_API_BASE\"],\n",
    "    openai_api_key=os.environ[\"OPENAI_API_KEY\"],\n",
    "    request_timeout=60,\n",
    ")\n",
    "vectorstore = Chroma.from_documents(\n",
    "    documents=docs, embedding=embed_model, collection_name=\"openai_embed\"\n",
    ")"
   ]
  },
  {
   "cell_type": "markdown",
   "metadata": {},
   "source": [
    "# 2. 定义Chat与System Prompt"
   ]
  },
  {
   "cell_type": "code",
   "execution_count": null,
   "metadata": {},
   "outputs": [],
   "source": [
    "chat = ChatOpenAI(\n",
    "    openai_api_key=os.environ[\"OPENAI_API_KEY\"],\n",
    "    openai_api_base=os.environ[\"OPENAI_API_BASE\"],\n",
    "    model=\"gpt-3.5-turbo\",\n",
    ")"
   ]
  },
  {
   "cell_type": "code",
   "execution_count": 114,
   "metadata": {},
   "outputs": [],
   "source": [
    "relations = \"'based on', 'facet of', 'part of', 'instance of', 'subject of', 'subclass of', 'use'\"\n",
    "system_prompt = f\"\"\"\n",
    "角色：\n",
    "你是一个深度学习领域的关系判断专员\n",
    "\n",
    "任务：\n",
    "给定两个实体，给定关系列表{relations}，请判断两个实体间可能存在什么关系，返回前3个最有可能的关系\n",
    "\n",
    "格式：\n",
    "请以以下格式返回：\n",
    "(relation1, relation2, relation3)\n",
    "\n",
    "注意事项：\n",
    "1. 除返回结果外，不要返回任何其他内容\n",
    "2. 以关系列表中的关系为准，不要返回其他关系\n",
    "\n",
    "\"\"\""
   ]
  },
  {
   "cell_type": "markdown",
   "metadata": {},
   "source": [
    "# 3. 利用检索数据增强Prompt"
   ]
  },
  {
   "cell_type": "code",
   "execution_count": 115,
   "metadata": {},
   "outputs": [],
   "source": [
    "def augment_prompt(query: str, topk=3):\n",
    "    # 获取topk的文本片段\n",
    "    results = vectorstore.similarity_search(query, k=topk)\n",
    "    source_knowledge = \"\\n\".join([x.page_content for x in results])\n",
    "    # 构建prompt\n",
    "    augmented_prompt = f\"\"\"Using the contexts below, answer the query.\n",
    "\n",
    "  contexts:\n",
    "  {source_knowledge}\n",
    "\n",
    "  query: {query}\"\"\"\n",
    "    return augmented_prompt"
   ]
  },
  {
   "cell_type": "markdown",
   "metadata": {},
   "source": [
    "# 4. 测试与输出"
   ]
  },
  {
   "cell_type": "code",
   "execution_count": 116,
   "metadata": {},
   "outputs": [],
   "source": [
    "def chat_RAG(RAG=True, query=None, system=system_prompt):\n",
    "    messages = [\n",
    "        SystemMessage(content=system),\n",
    "    ]\n",
    "    if RAG:\n",
    "        prompt = HumanMessage(content=augment_prompt(query))\n",
    "    else:\n",
    "        prompt = HumanMessage(content=query)\n",
    "    messages.append(prompt)\n",
    "    res = chat(messages)\n",
    "\n",
    "    return res"
   ]
  },
  {
   "cell_type": "code",
   "execution_count": 117,
   "metadata": {},
   "outputs": [
    {
     "name": "stdout",
     "output_type": "stream",
     "text": [
      "without RAG:  content=\"('based on', 'instance of', 'use')\"\n",
      "with RAG:  content='(based on, part of, instance of)'\n"
     ]
    }
   ],
   "source": [
    "query = \"['LSTM', 'RNN']\"\n",
    "print(\"without RAG: \", chat_RAG(RAG=False, query=query, system=system_prompt))\n",
    "print(\"with RAG: \", chat_RAG(RAG=True, query=query, system=system_prompt))"
   ]
  }
 ],
 "metadata": {
  "kernelspec": {
   "display_name": "Python 3",
   "language": "python",
   "name": "python3"
  },
  "language_info": {
   "codemirror_mode": {
    "name": "ipython",
    "version": 3
   },
   "file_extension": ".py",
   "mimetype": "text/x-python",
   "name": "python",
   "nbconvert_exporter": "python",
   "pygments_lexer": "ipython3",
   "version": "3.11.8"
  }
 },
 "nbformat": 4,
 "nbformat_minor": 2
}
