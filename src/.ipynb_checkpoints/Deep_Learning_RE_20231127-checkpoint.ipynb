{
 "cells": [
  {
   "cell_type": "code",
   "execution_count": 20,
   "id": "65544ba8",
   "metadata": {
    "execution": {
     "iopub.execute_input": "2023-12-08T05:24:42.163275Z",
     "iopub.status.busy": "2023-12-08T05:24:42.163275Z",
     "iopub.status.idle": "2023-12-08T05:24:42.167310Z",
     "shell.execute_reply": "2023-12-08T05:24:42.167310Z",
     "shell.execute_reply.started": "2023-12-08T05:24:42.163275Z"
    },
    "tags": []
   },
   "outputs": [],
   "source": [
    "import collections\n",
    "import json\n",
    "import os\n",
    "import re\n",
    "import openai\n",
    "import pdfplumber\n",
    "import ahocorasick\n",
    "\n",
    "dataDir = \"../data/\"\n",
    "dataName = \"Deep Learning.pdf\""
   ]
  },
  {
   "cell_type": "markdown",
   "id": "0bad0e7c",
   "metadata": {},
   "source": [
    "# 设置 api\n"
   ]
  },
  {
   "cell_type": "code",
   "execution_count": 57,
   "id": "80d6d00d",
   "metadata": {
    "execution": {
     "iopub.execute_input": "2023-12-08T05:29:45.652962Z",
     "iopub.status.busy": "2023-12-08T05:29:45.652962Z",
     "iopub.status.idle": "2023-12-08T05:29:45.655820Z",
     "shell.execute_reply": "2023-12-08T05:29:45.655820Z",
     "shell.execute_reply.started": "2023-12-08T05:29:45.652962Z"
    },
    "tags": []
   },
   "outputs": [],
   "source": [
    "# openai.api_base = \"https://api.chatanywhere.com.cn/\"\n",
    "openai.api_base = 'https://api.chatanywhere.cn/'\n",
    "openai.api_key = \"sk-D1u13WweY1LhWLqv95Ml7e3y8f8ToSfsTkGnlgvSQLqZJptC\""
   ]
  },
  {
   "cell_type": "markdown",
   "id": "02b80029",
   "metadata": {},
   "source": [
    "# 一，读取数据\n"
   ]
  },
  {
   "cell_type": "markdown",
   "id": "590efdbd",
   "metadata": {},
   "source": [
    "## 生成目录架构\n",
    "\n",
    "- 生成**章节名称**与**章节序号**的对应：`name_dict`\n",
    "- 以及**章节序号**与**章节页码**范围的对应：`index_dict`\n"
   ]
  },
  {
   "cell_type": "code",
   "execution_count": 3,
   "id": "1612cd29",
   "metadata": {
    "execution": {
     "iopub.execute_input": "2023-12-08T05:20:13.857931Z",
     "iopub.status.busy": "2023-12-08T05:20:13.856930Z",
     "iopub.status.idle": "2023-12-08T05:20:14.793768Z",
     "shell.execute_reply": "2023-12-08T05:20:14.793768Z",
     "shell.execute_reply.started": "2023-12-08T05:20:13.857931Z"
    },
    "tags": []
   },
   "outputs": [],
   "source": [
    "with pdfplumber.open(dataDir + dataName) as f:\n",
    "    # 目录架构生成\n",
    "    c, p, n = [], [], []\n",
    "    for i in range(7):\n",
    "        page = f.pages[i]\n",
    "        text = page.extract_text()\n",
    "        text_split = text.split(\"\\n\")\n",
    "        for i in text_split:\n",
    "            if bool(re.match(\"[0-9]+\\.[0-9]+\", i.split(\" \")[0])):\n",
    "                c.append(i.split(\" \")[0])\n",
    "                p.append(i.split(\" \")[-1])\n",
    "            if bool(re.match(\"[0-9]+\", i.split(\" \")[0])):\n",
    "                for j in i.split(\" \"):\n",
    "                    if bool(re.match(\"[A-Za-z]+\", j)):\n",
    "                        n.append((i.split(\" \")[0], j))"
   ]
  },
  {
   "cell_type": "markdown",
   "id": "b65673d5",
   "metadata": {},
   "source": [
    "### name_dict\n"
   ]
  },
  {
   "cell_type": "code",
   "execution_count": 4,
   "id": "665533ac",
   "metadata": {
    "execution": {
     "iopub.execute_input": "2023-12-08T05:20:14.794748Z",
     "iopub.status.busy": "2023-12-08T05:20:14.794748Z",
     "iopub.status.idle": "2023-12-08T05:20:14.797788Z",
     "shell.execute_reply": "2023-12-08T05:20:14.797788Z",
     "shell.execute_reply.started": "2023-12-08T05:20:14.794748Z"
    }
   },
   "outputs": [],
   "source": [
    "name_dict = {}\n",
    "for i, j in n:\n",
    "    if i in name_dict:\n",
    "        name_dict[i] = name_dict.get(i, \"\") + \" \" + j\n",
    "    else:\n",
    "        name_dict[i] = name_dict.get(i, \"\") + j"
   ]
  },
  {
   "cell_type": "markdown",
   "id": "faf6bbf5",
   "metadata": {},
   "source": [
    "### index_dict\n"
   ]
  },
  {
   "cell_type": "code",
   "execution_count": 5,
   "id": "98571f7f",
   "metadata": {
    "execution": {
     "iopub.execute_input": "2023-12-08T05:20:14.798790Z",
     "iopub.status.busy": "2023-12-08T05:20:14.798790Z",
     "iopub.status.idle": "2023-12-08T05:20:14.802132Z",
     "shell.execute_reply": "2023-12-08T05:20:14.802132Z",
     "shell.execute_reply.started": "2023-12-08T05:20:14.798790Z"
    }
   },
   "outputs": [],
   "source": [
    "p_range = list(zip(p, p[1:]))\n",
    "p_range.append((720, 800))\n",
    "c_p_range = list(zip(c, p_range))\n",
    "index_dict = collections.defaultdict(list)\n",
    "for k, v in c_p_range:\n",
    "    index_dict[k.split(\".\")[0]].append((k, v))"
   ]
  },
  {
   "cell_type": "markdown",
   "id": "8b056028",
   "metadata": {},
   "source": [
    "## 生成内容表\n",
    "\n",
    "- 段落内容表：`content_dict`\n"
   ]
  },
  {
   "cell_type": "code",
   "execution_count": 6,
   "id": "7993e527",
   "metadata": {
    "execution": {
     "iopub.execute_input": "2023-12-08T05:20:14.803134Z",
     "iopub.status.busy": "2023-12-08T05:20:14.803134Z",
     "iopub.status.idle": "2023-12-08T05:21:46.186396Z",
     "shell.execute_reply": "2023-12-08T05:21:46.186396Z",
     "shell.execute_reply.started": "2023-12-08T05:20:14.803134Z"
    },
    "scrolled": true
   },
   "outputs": [],
   "source": [
    "with pdfplumber.open(dataDir + dataName) as f:\n",
    "    content_dict = collections.defaultdict(list)\n",
    "\n",
    "    for k, v in index_dict.items():\n",
    "        for i in v:\n",
    "            page_range = i[-1]\n",
    "\n",
    "            for j in range(int(page_range[0]), int(page_range[1])):\n",
    "                page = f.pages[j]\n",
    "\n",
    "                text = page.extract_text().replace(\"\\n\", \" \")\n",
    "\n",
    "                content_dict[i[0]].append(text)"
   ]
  },
  {
   "cell_type": "markdown",
   "id": "f71bd1b8",
   "metadata": {},
   "source": [
    "# 二，Build Relations"
   ]
  },
  {
   "cell_type": "markdown",
   "id": "f30146ad",
   "metadata": {},
   "source": [
    "## 目录 + 前置"
   ]
  },
  {
   "cell_type": "code",
   "execution_count": 7,
   "id": "38dd4d7d",
   "metadata": {
    "execution": {
     "iopub.execute_input": "2023-12-08T05:21:46.187398Z",
     "iopub.status.busy": "2023-12-08T05:21:46.187398Z",
     "iopub.status.idle": "2023-12-08T05:21:46.190921Z",
     "shell.execute_reply": "2023-12-08T05:21:46.190921Z",
     "shell.execute_reply.started": "2023-12-08T05:21:46.187398Z"
    }
   },
   "outputs": [],
   "source": [
    "def catalogue_relations(dataName, name_dict=None, relation_type=[\"目录\", \"前置\"]):\n",
    "    c_relations = []\n",
    "    p_relations = []\n",
    "    if not name_dict:\n",
    "        name_dict = {}\n",
    "    for k, v in name_dict.items():\n",
    "        if bool(re.match(\"[0-9]+\\.[0-9]+\", k)):\n",
    "            p_relations.append(\n",
    "                [\n",
    "                    k.split(\".\")[0] + \" \" + name_dict[k.split(\".\")[0]],\n",
    "                    relation_type[1],\n",
    "                    k + \" \" + v,\n",
    "                ]\n",
    "            )\n",
    "        else:\n",
    "            c_relations.append(\n",
    "                [\n",
    "                    dataName,\n",
    "                    relation_type[0],\n",
    "                    k + \" \" + v,\n",
    "                ]\n",
    "            )\n",
    "    return p_relations, c_relations"
   ]
  },
  {
   "cell_type": "code",
   "execution_count": 8,
   "id": "14ec1631-fccf-4ae6-8095-aaf1e03e4ee1",
   "metadata": {
    "execution": {
     "iopub.execute_input": "2023-12-08T05:21:46.191923Z",
     "iopub.status.busy": "2023-12-08T05:21:46.191923Z",
     "iopub.status.idle": "2023-12-08T05:21:46.194223Z",
     "shell.execute_reply": "2023-12-08T05:21:46.194223Z",
     "shell.execute_reply.started": "2023-12-08T05:21:46.191923Z"
    },
    "tags": []
   },
   "outputs": [],
   "source": [
    "p_relations, c_relations = catalogue_relations(\n",
    "    dataName=dataName.split(\".\")[0], name_dict=name_dict\n",
    ")"
   ]
  },
  {
   "cell_type": "markdown",
   "id": "517c6694-6ee9-4347-854a-c2caf41895ad",
   "metadata": {
    "tags": []
   },
   "source": [
    "## 包含 + 段落共现"
   ]
  },
  {
   "cell_type": "markdown",
   "id": "33964ebb-e42e-498a-982d-2bdfa5ceafd3",
   "metadata": {},
   "source": [
    "### AC自动机"
   ]
  },
  {
   "cell_type": "code",
   "execution_count": 9,
   "id": "c3374c69-3635-4a74-97d9-0394405c1756",
   "metadata": {
    "execution": {
     "iopub.execute_input": "2023-12-08T05:21:46.195223Z",
     "iopub.status.busy": "2023-12-08T05:21:46.195223Z",
     "iopub.status.idle": "2023-12-08T05:21:46.198204Z",
     "shell.execute_reply": "2023-12-08T05:21:46.198204Z",
     "shell.execute_reply.started": "2023-12-08T05:21:46.195223Z"
    },
    "tags": []
   },
   "outputs": [],
   "source": [
    "def build(patterns):\n",
    "    trie = ahocorasick.Automaton()\n",
    "    for index, word in enumerate(patterns):\n",
    "        trie.add_word(word, (index, word))\n",
    "    trie.make_automaton()\n",
    "    return trie"
   ]
  },
  {
   "cell_type": "code",
   "execution_count": 27,
   "id": "95fa4b1d-495c-4cb7-9ea0-c17e630472c8",
   "metadata": {
    "execution": {
     "iopub.execute_input": "2023-12-08T05:25:05.479018Z",
     "iopub.status.busy": "2023-12-08T05:25:05.478018Z",
     "iopub.status.idle": "2023-12-08T05:25:05.483218Z",
     "shell.execute_reply": "2023-12-08T05:25:05.483218Z",
     "shell.execute_reply.started": "2023-12-08T05:25:05.479018Z"
    },
    "tags": []
   },
   "outputs": [],
   "source": [
    "data = []\n",
    "for i in range(1, 21):\n",
    "    with open(dataDir + \"relations/\" + \"kb_chapter_\" + str(i) + \".json\", \"r\") as f:\n",
    "        data.append([i, json.load(f)])"
   ]
  },
  {
   "cell_type": "code",
   "execution_count": 172,
   "id": "0e7d6ddf-5d18-49de-9233-653a708eff80",
   "metadata": {
    "execution": {
     "iopub.execute_input": "2023-12-08T06:01:01.641253Z",
     "iopub.status.busy": "2023-12-08T06:01:01.640253Z",
     "iopub.status.idle": "2023-12-08T06:01:01.644754Z",
     "shell.execute_reply": "2023-12-08T06:01:01.644754Z",
     "shell.execute_reply.started": "2023-12-08T06:01:01.641253Z"
    },
    "tags": []
   },
   "outputs": [],
   "source": [
    "re_set = set()\n",
    "for i in data:\n",
    "    for j in i[1]:\n",
    "        if not bool(re.match('^([0-9]+|[A-Za-z])$', j[0])) and not bool(re.match('^([0-9]+|[A-Za-z])$', j[2])) and j[0] != j[2]:\n",
    "            re_set.add(tuple(j))"
   ]
  },
  {
   "cell_type": "code",
   "execution_count": 28,
   "id": "f2f887bc-6d13-46b8-a844-ea51219142c6",
   "metadata": {
    "execution": {
     "iopub.execute_input": "2023-12-08T05:25:05.685534Z",
     "iopub.status.busy": "2023-12-08T05:25:05.685534Z",
     "iopub.status.idle": "2023-12-08T05:25:05.689097Z",
     "shell.execute_reply": "2023-12-08T05:25:05.689097Z",
     "shell.execute_reply.started": "2023-12-08T05:25:05.685534Z"
    },
    "tags": []
   },
   "outputs": [],
   "source": [
    "raw_entity_set = set()\n",
    "relation_set = set()\n",
    "for i in data:\n",
    "    for relation in i[1]:\n",
    "        if relation[0] not in raw_entity_set:\n",
    "            raw_entity_set.add(relation[0])\n",
    "        if relation[2] not in raw_entity_set:\n",
    "            raw_entity_set.add(relation[2])\n",
    "        if relation[1] not in relation_set:\n",
    "            relation_set.add(relation[1])"
   ]
  },
  {
   "cell_type": "code",
   "execution_count": 29,
   "id": "70cdf1f4-3dfe-43c4-9c29-357e665b0400",
   "metadata": {
    "execution": {
     "iopub.execute_input": "2023-12-08T05:25:06.003104Z",
     "iopub.status.busy": "2023-12-08T05:25:06.003104Z",
     "iopub.status.idle": "2023-12-08T05:25:06.005842Z",
     "shell.execute_reply": "2023-12-08T05:25:06.005842Z",
     "shell.execute_reply.started": "2023-12-08T05:25:06.003104Z"
    },
    "tags": []
   },
   "outputs": [],
   "source": [
    "entity_set = set()\n",
    "for i in raw_entity_set:\n",
    "    if not bool(re.match('^([0-9]+|[A-Za-z])$', i)):\n",
    "        entity_set.add(i)"
   ]
  },
  {
   "cell_type": "code",
   "execution_count": 30,
   "id": "6db9746b-2e5d-4ba1-9acf-d6911be6c9bd",
   "metadata": {
    "execution": {
     "iopub.execute_input": "2023-12-08T05:25:06.281137Z",
     "iopub.status.busy": "2023-12-08T05:25:06.281137Z",
     "iopub.status.idle": "2023-12-08T05:25:06.285832Z",
     "shell.execute_reply": "2023-12-08T05:25:06.285832Z",
     "shell.execute_reply.started": "2023-12-08T05:25:06.281137Z"
    },
    "tags": []
   },
   "outputs": [],
   "source": [
    "def include_co_presence(entity_set):\n",
    "    patterns = list(entity_set)\n",
    "    trie = build(patterns)\n",
    "    include_relations = []\n",
    "    co_presence_relations = set()\n",
    "    for chapter, sections in index_dict.items():\n",
    "        for section in sections:\n",
    "            for content in content_dict[section[0]]:\n",
    "                word_set = set(word[1][1] for word in trie.iter(content))\n",
    "                for head in word_set:\n",
    "                    if not bool(re.match(\"^(\\d+|[A-Za-z])$\", head)):\n",
    "                        include_relations.append(\n",
    "                            [section[0] + \" \" + name_dict[section[0]], \"include\", head]\n",
    "                        )\n",
    "                        for tail in word_set:\n",
    "                            if head != tail and not bool(\n",
    "                                re.match(\"^(\\d+|[A-Za-z])$\", tail)\n",
    "                            ):\n",
    "                                if (\n",
    "                                    tail,\n",
    "                                    \"co_presence\",\n",
    "                                    head,\n",
    "                                ) not in co_presence_relations:\n",
    "                                    co_presence_relations.add(\n",
    "                                        (head, \"co_presence\", tail)\n",
    "                                    )\n",
    "    return include_relations, co_presence_relations"
   ]
  },
  {
   "cell_type": "code",
   "execution_count": 31,
   "id": "ab6d9231-654f-4697-9515-3079672ed128",
   "metadata": {
    "execution": {
     "iopub.execute_input": "2023-12-08T05:25:06.768531Z",
     "iopub.status.busy": "2023-12-08T05:25:06.767531Z",
     "iopub.status.idle": "2023-12-08T05:25:06.799372Z",
     "shell.execute_reply": "2023-12-08T05:25:06.799372Z",
     "shell.execute_reply.started": "2023-12-08T05:25:06.768531Z"
    },
    "tags": []
   },
   "outputs": [],
   "source": [
    "include_relations, co_presence_relations = include_co_presence(entity_set)"
   ]
  },
  {
   "cell_type": "markdown",
   "id": "e319119a-cd22-4a74-b941-cfddd2052873",
   "metadata": {
    "tags": []
   },
   "source": [
    "## 结果展示"
   ]
  },
  {
   "cell_type": "code",
   "execution_count": 32,
   "id": "d66e3ea7-0d49-488c-8dae-394d1b2976d5",
   "metadata": {
    "execution": {
     "iopub.execute_input": "2023-12-08T05:25:07.398176Z",
     "iopub.status.busy": "2023-12-08T05:25:07.398176Z",
     "iopub.status.idle": "2023-12-08T05:25:07.401028Z",
     "shell.execute_reply": "2023-12-08T05:25:07.401028Z",
     "shell.execute_reply.started": "2023-12-08T05:25:07.398176Z"
    },
    "tags": []
   },
   "outputs": [
    {
     "data": {
      "text/plain": [
       "['1 Introduction', '前置', '1.1 Who Should Read This Book?']"
      ]
     },
     "execution_count": 32,
     "metadata": {},
     "output_type": "execute_result"
    }
   ],
   "source": [
    "p_relations[0]"
   ]
  },
  {
   "cell_type": "code",
   "execution_count": 33,
   "id": "abf4941e-e982-41f1-b41c-5322c7e52238",
   "metadata": {
    "execution": {
     "iopub.execute_input": "2023-12-08T05:25:07.692126Z",
     "iopub.status.busy": "2023-12-08T05:25:07.692126Z",
     "iopub.status.idle": "2023-12-08T05:25:07.695242Z",
     "shell.execute_reply": "2023-12-08T05:25:07.695242Z",
     "shell.execute_reply.started": "2023-12-08T05:25:07.692126Z"
    },
    "tags": []
   },
   "outputs": [
    {
     "data": {
      "text/plain": [
       "['Deep Learning', '目录', '1 Introduction']"
      ]
     },
     "execution_count": 33,
     "metadata": {},
     "output_type": "execute_result"
    }
   ],
   "source": [
    "c_relations[0]"
   ]
  },
  {
   "cell_type": "code",
   "execution_count": 34,
   "id": "3fa90760-e6bd-4056-a566-092cad016f3d",
   "metadata": {
    "execution": {
     "iopub.execute_input": "2023-12-08T05:25:07.976530Z",
     "iopub.status.busy": "2023-12-08T05:25:07.976530Z",
     "iopub.status.idle": "2023-12-08T05:25:07.979740Z",
     "shell.execute_reply": "2023-12-08T05:25:07.979740Z",
     "shell.execute_reply.started": "2023-12-08T05:25:07.976530Z"
    },
    "tags": []
   },
   "outputs": [
    {
     "data": {
      "text/plain": [
       "1533"
      ]
     },
     "execution_count": 34,
     "metadata": {},
     "output_type": "execute_result"
    }
   ],
   "source": [
    "len(co_presence_relations)"
   ]
  },
  {
   "cell_type": "code",
   "execution_count": 35,
   "id": "2779489f-06c4-4af9-8959-daefd2d748f3",
   "metadata": {
    "execution": {
     "iopub.execute_input": "2023-12-08T05:25:08.592538Z",
     "iopub.status.busy": "2023-12-08T05:25:08.591538Z",
     "iopub.status.idle": "2023-12-08T05:25:08.595305Z",
     "shell.execute_reply": "2023-12-08T05:25:08.595305Z",
     "shell.execute_reply.started": "2023-12-08T05:25:08.592538Z"
    },
    "tags": []
   },
   "outputs": [
    {
     "data": {
      "text/plain": [
       "['1.1 Who Should Read This Book?', 'include', 'Feedforward']"
      ]
     },
     "execution_count": 35,
     "metadata": {},
     "output_type": "execute_result"
    }
   ],
   "source": [
    "include_relations[0]"
   ]
  },
  {
   "cell_type": "code",
   "execution_count": 36,
   "id": "50b2c125-a610-4ca4-9f86-54189d45bc53",
   "metadata": {
    "execution": {
     "iopub.execute_input": "2023-12-08T05:25:09.694662Z",
     "iopub.status.busy": "2023-12-08T05:25:09.694662Z",
     "iopub.status.idle": "2023-12-08T05:25:09.697285Z",
     "shell.execute_reply": "2023-12-08T05:25:09.697285Z",
     "shell.execute_reply.started": "2023-12-08T05:25:09.694662Z"
    },
    "tags": []
   },
   "outputs": [],
   "source": [
    "structure_relations = (\n",
    "    p_relations + c_relations + list(co_presence_relations) + include_relations\n",
    ")"
   ]
  },
  {
   "cell_type": "code",
   "execution_count": 37,
   "id": "8a648211-88c3-4493-b165-47710300077d",
   "metadata": {
    "execution": {
     "iopub.execute_input": "2023-12-08T05:25:12.632542Z",
     "iopub.status.busy": "2023-12-08T05:25:12.632542Z",
     "iopub.status.idle": "2023-12-08T05:25:12.635949Z",
     "shell.execute_reply": "2023-12-08T05:25:12.635949Z",
     "shell.execute_reply.started": "2023-12-08T05:25:12.632542Z"
    },
    "tags": []
   },
   "outputs": [
    {
     "data": {
      "text/plain": [
       "3112"
      ]
     },
     "execution_count": 37,
     "metadata": {},
     "output_type": "execute_result"
    }
   ],
   "source": [
    "len(structure_relations)"
   ]
  },
  {
   "cell_type": "code",
   "execution_count": 38,
   "id": "031f1845-3a55-487c-9da9-555aa5c33aa0",
   "metadata": {
    "execution": {
     "iopub.execute_input": "2023-12-08T05:25:20.911512Z",
     "iopub.status.busy": "2023-12-08T05:25:20.911512Z",
     "iopub.status.idle": "2023-12-08T05:25:20.949004Z",
     "shell.execute_reply": "2023-12-08T05:25:20.949004Z",
     "shell.execute_reply.started": "2023-12-08T05:25:20.911512Z"
    },
    "tags": []
   },
   "outputs": [],
   "source": [
    "with open(os.path.join(dataDir + \"/relations\", f\"structure_relations.json\"), \"w\") as f:\n",
    "    json.dump(structure_relations, f, indent=4)"
   ]
  },
  {
   "cell_type": "markdown",
   "id": "cda55af9",
   "metadata": {},
   "source": [
    "# 测试"
   ]
  },
  {
   "cell_type": "markdown",
   "id": "b5849673",
   "metadata": {},
   "source": [
    "# 一些其他尝试\n",
    "\n",
    "N - Gram\n"
   ]
  },
  {
   "cell_type": "code",
   "execution_count": 39,
   "id": "849fd60d",
   "metadata": {
    "execution": {
     "iopub.execute_input": "2023-12-08T05:25:23.578628Z",
     "iopub.status.busy": "2023-12-08T05:25:23.577628Z",
     "iopub.status.idle": "2023-12-08T05:25:23.580529Z",
     "shell.execute_reply": "2023-12-08T05:25:23.580529Z",
     "shell.execute_reply.started": "2023-12-08T05:25:23.578628Z"
    },
    "tags": []
   },
   "outputs": [],
   "source": [
    "# 暂时没有探索结果\n",
    "# all_text = re.sub('[^A-Za-z0-9\\.]+', ' ', text).lower().split(' ')\n",
    "# ng1 = collections.defaultdict(int)\n",
    "# ng2 = collections.defaultdict(int)\n",
    "# ng3 = collections.defaultdict(int)\n",
    "# ng4 = collections.defaultdict(int)\n",
    "# for i, j in enumerate(all_text):\n",
    "#     ng1[j] += 1\n",
    "#     if i > 0: ng2[(all_text[i-1], j)] += 1\n",
    "#     if i > 1: ng3[(all_text[i-2], all_text[i-1], j)] += 1\n",
    "#     if i > 2: ng4[(all_text[i-3], all_text[i-2], all_text[i-1], j)] += 1\n",
    "\n",
    "# def sort_feq(dic):\n",
    "#     return sorted([(k, v) for k, v in dic.items()], key=lambda x: x[1], reverse=True)"
   ]
  },
  {
   "cell_type": "markdown",
   "id": "ad64b84f",
   "metadata": {},
   "source": [
    "### 定义 Chat 类"
   ]
  },
  {
   "cell_type": "code",
   "execution_count": 58,
   "id": "9e486417",
   "metadata": {
    "execution": {
     "iopub.execute_input": "2023-12-08T05:29:50.452808Z",
     "iopub.status.busy": "2023-12-08T05:29:50.452808Z",
     "iopub.status.idle": "2023-12-08T05:29:50.455489Z",
     "shell.execute_reply": "2023-12-08T05:29:50.455489Z",
     "shell.execute_reply.started": "2023-12-08T05:29:50.452808Z"
    },
    "tags": []
   },
   "outputs": [],
   "source": [
    "def total_counts(response):\n",
    "    tokens_nums = int(response[\"usage\"][\"total_tokens\"])\n",
    "    price = 0.002 / 1000\n",
    "    cost = \"{:.5f}\".format(price * tokens_nums * 7.5)\n",
    "    print(f\"tokens: {tokens_nums}, cost: {cost}\")\n",
    "\n",
    "    return float(cost)"
   ]
  },
  {
   "cell_type": "code",
   "execution_count": 65,
   "id": "aaf30deb",
   "metadata": {
    "execution": {
     "iopub.execute_input": "2023-12-08T05:31:07.115782Z",
     "iopub.status.busy": "2023-12-08T05:31:07.114782Z",
     "iopub.status.idle": "2023-12-08T05:31:07.119446Z",
     "shell.execute_reply": "2023-12-08T05:31:07.119446Z",
     "shell.execute_reply.started": "2023-12-08T05:31:07.115782Z"
    },
    "tags": []
   },
   "outputs": [],
   "source": [
    "class Chat:\n",
    "    def __init__(self, conversation_list=[]):\n",
    "        self.conversation_list = conversation_list\n",
    "        self.costs_list = []\n",
    "\n",
    "    def show_conversation(self, msg_list):\n",
    "        for msg in msg_list[-2:]:\n",
    "            if msg[\"role\"] == \"user\":\n",
    "                pass\n",
    "            else:\n",
    "                message = msg[\"content\"]\n",
    "                print(f\"\\U0001f47D: {message}\\n\")\n",
    "            print()\n",
    "\n",
    "    def ask(self, prompt):\n",
    "        self.conversation_list.append({\"role\": \"user\", \"content\": prompt})\n",
    "        openai.api_key = \"sk-D1u13WweY1LhWLqv95Ml7e3y8f8ToSfsTkGnlgvSQLqZJptC\"\n",
    "        response = openai.ChatCompletion.create(\n",
    "            model=\"gpt-3.5-turbo\", messages=self.conversation_list\n",
    "        )\n",
    "        answer = response.choices[0].message[\"content\"]\n",
    "\n",
    "        self.conversation_list.append({\"role\": \"assistant\", \"content\": answer})\n",
    "        self.show_conversation(self.conversation_list)\n",
    "\n",
    "        cost = total_counts(response)\n",
    "        self.costs_list.append(cost)\n",
    "        return answer\n",
    "        print()"
   ]
  },
  {
   "cell_type": "code",
   "execution_count": 155,
   "id": "7c295510-6d7b-4f43-a3ac-544d258bf902",
   "metadata": {
    "execution": {
     "iopub.execute_input": "2023-12-08T05:49:30.227884Z",
     "iopub.status.busy": "2023-12-08T05:49:30.227884Z",
     "iopub.status.idle": "2023-12-08T05:49:30.230355Z",
     "shell.execute_reply": "2023-12-08T05:49:30.230355Z",
     "shell.execute_reply.started": "2023-12-08T05:49:30.227884Z"
    },
    "tags": []
   },
   "outputs": [],
   "source": [
    "conversation_list = [\n",
    "    {\n",
    "        \"role\": \"system\",\n",
    "        \"content\": \"你是一个深度学习、机器学习、数学、计算机科学领域的实体标注专员，给定字符串列表，请依次找出其中包含的深度学习、机器学习、数学、计算机科学领域的实体，并返回该实体在原字符串中的表述。除结果外，不要返回任何其他内容。如输入'MLP asfasdfasdf'，返回'MLP'\",\n",
    "    }\n",
    "]\n",
    "\n",
    "bot = Chat(conversation_list)"
   ]
  },
  {
   "cell_type": "code",
   "execution_count": 156,
   "id": "c2ff51f8-c443-4416-b982-3c912e0d8fa0",
   "metadata": {
    "execution": {
     "iopub.execute_input": "2023-12-08T05:49:30.511432Z",
     "iopub.status.busy": "2023-12-08T05:49:30.511432Z",
     "iopub.status.idle": "2023-12-08T05:49:30.513993Z",
     "shell.execute_reply": "2023-12-08T05:49:30.513993Z",
     "shell.execute_reply.started": "2023-12-08T05:49:30.511432Z"
    },
    "tags": []
   },
   "outputs": [],
   "source": [
    "text = str(tuple(list(entity_set)[0:10]))"
   ]
  },
  {
   "cell_type": "code",
   "execution_count": 157,
   "id": "580a64e4-2091-4f61-a990-2dec0e8dd79f",
   "metadata": {
    "execution": {
     "iopub.execute_input": "2023-12-08T05:49:30.833078Z",
     "iopub.status.busy": "2023-12-08T05:49:30.833078Z",
     "iopub.status.idle": "2023-12-08T05:49:30.836135Z",
     "shell.execute_reply": "2023-12-08T05:49:30.836135Z",
     "shell.execute_reply.started": "2023-12-08T05:49:30.833078Z"
    },
    "tags": []
   },
   "outputs": [
    {
     "data": {
      "text/plain": [
       "\"('Hyperparameter', 'Family', 'Computer scientist', 'Weak supervision', 'Dream', 'Nonparametric statistics', 'Journal of the Royal Statistical Society', 'Rodent', 'Maximum likelihood estimation', 'Norm (mathematics)')\""
      ]
     },
     "execution_count": 157,
     "metadata": {},
     "output_type": "execute_result"
    }
   ],
   "source": [
    "text"
   ]
  },
  {
   "cell_type": "code",
   "execution_count": 159,
   "id": "c40ec471-2c2a-4744-9390-dee922179f5c",
   "metadata": {
    "execution": {
     "iopub.execute_input": "2023-12-08T05:50:05.517775Z",
     "iopub.status.busy": "2023-12-08T05:50:05.517775Z",
     "iopub.status.idle": "2023-12-08T05:50:06.389230Z",
     "shell.execute_reply": "2023-12-08T05:50:06.389230Z",
     "shell.execute_reply.started": "2023-12-08T05:50:05.517775Z"
    },
    "tags": []
   },
   "outputs": [
    {
     "name": "stdout",
     "output_type": "stream",
     "text": [
      "\n",
      "👽: Hyperparameter\n",
      "\n",
      "\n",
      "tokens: 197, cost: 0.00295\n"
     ]
    },
    {
     "data": {
      "text/plain": [
       "[{'role': 'system',\n",
       "  'content': \"你是一个深度学习、机器学习、数学、计算机科学领域的实体标注专员，给定字符串列表，请依次找出其中包含的深度学习、机器学习、数学、计算机科学领域的实体，并返回该实体在原字符串中的表述。除结果外，不要返回任何其他内容。如输入'MLP asfasdfasdf'，返回'MLP'\"},\n",
       " {'role': 'user',\n",
       "  'content': \"('Hyperparameter', 'Family', 'Computer scientist', 'Weak supervision', 'Dream', 'Nonparametric statistics', 'Journal of the Royal Statistical Society', 'Rodent', 'Maximum likelihood estimation', 'Norm (mathematics)')\"},\n",
       " {'role': 'assistant',\n",
       "  'content': 'Maximum likelihood estimation\\nNorm (mathematics)'},\n",
       " {'role': 'user', 'content': 'Hyperparameter'},\n",
       " {'role': 'assistant', 'content': 'Hyperparameter'}]"
      ]
     },
     "execution_count": 159,
     "metadata": {},
     "output_type": "execute_result"
    }
   ],
   "source": [
    "answer = bot.ask('Hyperparameter')\n",
    "\n",
    "bot.conversation_list"
   ]
  },
  {
   "cell_type": "code",
   "execution_count": null,
   "id": "c2292fbf",
   "metadata": {
    "scrolled": true
   },
   "outputs": [],
   "source": [
    "res_tiny = [i.strip() for i in re.sub('\"|}|{||\\[|\\]', \"\", answer).split(\",\")]"
   ]
  },
  {
   "cell_type": "code",
   "execution_count": 102,
   "id": "388b9740-3fa0-4739-a3b4-1eabb9b6196f",
   "metadata": {
    "execution": {
     "iopub.execute_input": "2023-12-08T04:58:51.548906Z",
     "iopub.status.busy": "2023-12-08T04:58:51.548906Z",
     "iopub.status.idle": "2023-12-08T04:58:51.553198Z",
     "shell.execute_reply": "2023-12-08T04:58:51.553198Z",
     "shell.execute_reply.started": "2023-12-08T04:58:51.548906Z"
    },
    "tags": []
   },
   "outputs": [
    {
     "data": {
      "text/plain": [
       "['feedforward neural networks',\n",
       " 'SETTLEMENTS',\n",
       " 'CPUs',\n",
       " 'suppressing variance',\n",
       " 'REINFORCE TAMADRAalgorithm',\n",
       " 'Gradient descent',\n",
       " 'reinforcement learning',\n",
       " 'Laplacian pyramid',\n",
       " 'tree structure',\n",
       " 'sparse connectivity',\n",
       " 'Machine能',\n",
       " 'SLOW feature analysis',\n",
       " 'stochastic autoencoder',\n",
       " 'IEEE Transactions on Automatic Control',\n",
       " 'Deepbelief network',\n",
       " 'encoding schemes',\n",
       " 'functional',\n",
       " 'Bernoulli',\n",
       " 'Bayesian network',\n",
       " 'summation',\n",
       " 'GENERATIVE MODELS',\n",
       " 'minimally large',\n",
       " 'maximize',\n",
       " 'back-propagation algorithm',\n",
       " 'physical energy',\n",
       " 'annealed importance sampling',\n",
       " '2.4 Stochastic Encoders and Decoders',\n",
       " 'IPv9',\n",
       " 'deep autoencoder',\n",
       " 'Jarzynski',\n",
       " 'minimization problem',\n",
       " '6.2 Sigmoid Units for Bernoulli Output Distributions',\n",
       " 'encoder',\n",
       " 'embodying',\n",
       " 'Restricted Boltzmann Machine',\n",
       " 'Atkins Medal',\n",
       " 'minimally posterior probability',\n",
       " 'hidden Markov model',\n",
       " 'Memory networks',\n",
       " 'parametrize',\n",
       " 'kernels',\n",
       " 'tree',\n",
       " 'precision',\n",
       " 'RECurrent neural network',\n",
       " 'probability',\n",
       " '8.5',\n",
       " 'Ensipio diagram',\n",
       " 'convolution',\n",
       " 'equilibrium',\n",
       " 'SFA algorithm',\n",
       " 'denoising autoencoder',\n",
       " 'undirected',\n",
       " 'mean-product of t-distribution',\n",
       " 'RECirculation',\n",
       " 'derivative',\n",
       " 'noise distribution',\n",
       " 'maxout unit',\n",
       " 'conversely',\n",
       " 'supervised training',\n",
       " 'early stopping',\n",
       " 'deep probabilistic models',\n",
       " 'slavery',\n",
       " 'GRU recurrent net',\n",
       " 'optimistically',\n",
       " 'comprehensively recovered',\n",
       " 'distributions',\n",
       " 'topological',\n",
       " 'memory consumption',\n",
       " 'Autoencoder network',\n",
       " 'regions',\n",
       " 'classify',\n",
       " 'three-dimensional',\n",
       " 'network',\n",
       " '2nd-order optimization',\n",
       " 'software engineering',\n",
       " 'APPROXIMATE INFERENCE',\n",
       " 'eigenvalue spectrum',\n",
       " 'algorithmically',\n",
       " 'complex-valued',\n",
       " 'fully connected Boltzmann machine',\n",
       " 'supervised model',\n",
       " 'autoencoder network',\n",
       " 'Second resampled dataset',\n",
       " 'Generative stochastic network',\n",
       " 'transformed space',\n",
       " 'approximate inference',\n",
       " 'minimally distributed representation',\n",
       " 'tangent plane',\n",
       " 'INFERENCE',\n",
       " 'probability mass function',\n",
       " 'Monte Carlo method',\n",
       " 'Scalars, Vectors, Matrices and Tensors',\n",
       " 'intertwine',\n",
       " 'dropout',\n",
       " 'regression',\n",
       " '8.1 Stochastic Gradient Descent',\n",
       " 'Dirational graph',\n",
       " 'manifold learning',\n",
       " 'algorithm 20',\n",
       " 'decoder']"
      ]
     },
     "execution_count": 102,
     "metadata": {},
     "output_type": "execute_result"
    }
   ],
   "source": [
    "list(entity_set)[:100]"
   ]
  }
 ],
 "metadata": {
  "kernelspec": {
   "display_name": "Python 3 (ipykernel)",
   "language": "python",
   "name": "python3"
  },
  "language_info": {
   "codemirror_mode": {
    "name": "ipython",
    "version": 3
   },
   "file_extension": ".py",
   "mimetype": "text/x-python",
   "name": "python",
   "nbconvert_exporter": "python",
   "pygments_lexer": "ipython3",
   "version": "3.11.5"
  }
 },
 "nbformat": 4,
 "nbformat_minor": 5
}
