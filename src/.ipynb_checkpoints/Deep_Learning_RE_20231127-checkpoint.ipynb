{
 "cells": [
  {
   "cell_type": "code",
   "execution_count": 10,
   "id": "65544ba8",
   "metadata": {},
   "outputs": [],
   "source": [
    "import openai\n",
    "from pdfminer.high_level import extract_text\n",
    "import re\n",
    "\n",
    "import collections\n",
    "import pdfplumber\n",
    "\n",
    "dataDir = \"../data/\"\n",
    "dataName = \"Deep Learning.pdf\""
   ]
  },
  {
   "cell_type": "markdown",
   "id": "0bad0e7c",
   "metadata": {},
   "source": [
    "# 设置 api\n"
   ]
  },
  {
   "cell_type": "code",
   "execution_count": 3,
   "id": "80d6d00d",
   "metadata": {},
   "outputs": [],
   "source": [
    "openai.api_base = \"https://api.chatanywhere.com.cn/v1\"\n",
    "# openai.api_base = 'https://api.chatanywhere.cn/v1'\n",
    "openai.api_key = \"sk-D1u13WweY1LhWLqv95Ml7e3y8f8ToSfsTkGnlgvSQLqZJptC\""
   ]
  },
  {
   "cell_type": "markdown",
   "id": "02b80029",
   "metadata": {},
   "source": [
    "# 一，读取数据\n"
   ]
  },
  {
   "cell_type": "code",
   "execution_count": 4,
   "id": "dfa24280",
   "metadata": {},
   "outputs": [],
   "source": [
    "# 不选择用这种方式读取，用pdfplumber更好\n",
    "# text = extract_text('./Deep Learning (Ian Goodfellow, Yoshua Bengio, Aaron Courville).pdf')"
   ]
  },
  {
   "cell_type": "markdown",
   "id": "590efdbd",
   "metadata": {},
   "source": [
    "## 生成目录架构\n",
    "\n",
    "- 生成**章节名称**与**章节序号**的对应：`name_dict`\n",
    "- 以及**章节序号**与**章节页码**范围的对应：`index_dict`\n"
   ]
  },
  {
   "cell_type": "code",
   "execution_count": 11,
   "id": "1612cd29",
   "metadata": {},
   "outputs": [],
   "source": [
    "with pdfplumber.open(dataDir+dataName) as f:\n",
    "    # 目录架构生成\n",
    "    c, p, n = [], [], []\n",
    "    for i in range(7):\n",
    "        page = f.pages[i]\n",
    "        text = page.extract_text()\n",
    "        text_split = text.split(\"\\n\")\n",
    "        for i in text_split:\n",
    "            if bool(re.match(\"[0-9]+\\.[0-9]+\", i.split(\" \")[0])):\n",
    "                c.append(i.split(\" \")[0])\n",
    "                p.append(i.split(\" \")[-1])\n",
    "            if bool(re.match(\"[0-9]+\", i.split(\" \")[0])):\n",
    "                for j in i.split(\" \"):\n",
    "                    if bool(re.match(\"[A-Za-z]+\", j)):\n",
    "                        n.append((i.split(\" \")[0], j))"
   ]
  },
  {
   "cell_type": "markdown",
   "id": "b65673d5",
   "metadata": {},
   "source": [
    "### name_dict\n"
   ]
  },
  {
   "cell_type": "code",
   "execution_count": 6,
   "id": "665533ac",
   "metadata": {},
   "outputs": [],
   "source": [
    "name_dict = {}\n",
    "for i, j in n:\n",
    "    if i in name_dict:\n",
    "        name_dict[i] = name_dict.get(i, \"\") + \" \" + j\n",
    "    else:\n",
    "        name_dict[i] = name_dict.get(i, \"\") + j"
   ]
  },
  {
   "cell_type": "markdown",
   "id": "faf6bbf5",
   "metadata": {},
   "source": [
    "### index_dict\n"
   ]
  },
  {
   "cell_type": "code",
   "execution_count": 7,
   "id": "98571f7f",
   "metadata": {
    "scrolled": false
   },
   "outputs": [],
   "source": [
    "p_range = list(zip(p, p[1:]))\n",
    "p_range.append((720, 800))\n",
    "c_p_range = list(zip(c, p_range))\n",
    "index_dict = collections.defaultdict(list)\n",
    "for k, v in c_p_range:\n",
    "    index_dict[k.split(\".\")[0]].append((k, v))"
   ]
  },
  {
   "cell_type": "markdown",
   "id": "8b056028",
   "metadata": {},
   "source": [
    "## 生成内容表\n",
    "\n",
    "- 段落内容表：`content_dict`\n",
    "- 句子内容表：`sentence_dict`\n"
   ]
  },
  {
   "cell_type": "code",
   "execution_count": 12,
   "id": "7993e527",
   "metadata": {
    "scrolled": true
   },
   "outputs": [],
   "source": [
    "with pdfplumber.open(dataDir+dataName) as f:\n",
    "    content_dict = collections.defaultdict(list)\n",
    "\n",
    "    sentence_dict = collections.defaultdict(list)\n",
    "\n",
    "    for k, v in index_dict.items():\n",
    "        for i in v:\n",
    "            page_range = i[-1]\n",
    "\n",
    "            for j in range(int(page_range[0]), int(page_range[1])):\n",
    "                page = f.pages[j]\n",
    "\n",
    "                text = page.extract_text().replace(\"\\n\", \" \")\n",
    "\n",
    "                content_dict[i[0]].append(text)\n",
    "\n",
    "                text_split = text.split(\".\")\n",
    "\n",
    "                for t in text_split:\n",
    "                    sentence_dict[i[0]].append(t)\n",
    "\n",
    "        break"
   ]
  },
  {
   "cell_type": "markdown",
   "id": "f71bd1b8",
   "metadata": {},
   "source": [
    "# 二，Build Relations"
   ]
  },
  {
   "cell_type": "markdown",
   "id": "f30146ad",
   "metadata": {},
   "source": [
    "## 目录"
   ]
  },
  {
   "cell_type": "code",
   "execution_count": null,
   "id": "38dd4d7d",
   "metadata": {},
   "outputs": [],
   "source": []
  },
  {
   "cell_type": "markdown",
   "id": "2b10f7ea",
   "metadata": {},
   "source": [
    "## 前置 "
   ]
  },
  {
   "cell_type": "code",
   "execution_count": null,
   "id": "69e8cc9b",
   "metadata": {},
   "outputs": [],
   "source": []
  },
  {
   "cell_type": "markdown",
   "id": "ab14b17e",
   "metadata": {},
   "source": [
    "## 段落共现"
   ]
  },
  {
   "cell_type": "code",
   "execution_count": null,
   "id": "5275f7fa",
   "metadata": {},
   "outputs": [],
   "source": []
  },
  {
   "cell_type": "markdown",
   "id": "44b0d836",
   "metadata": {},
   "source": [
    "## 句子共现"
   ]
  },
  {
   "cell_type": "code",
   "execution_count": null,
   "id": "7438a6f4",
   "metadata": {},
   "outputs": [],
   "source": []
  },
  {
   "cell_type": "markdown",
   "id": "d233723f",
   "metadata": {},
   "source": [
    "## 频繁项集"
   ]
  },
  {
   "cell_type": "code",
   "execution_count": null,
   "id": "1feaa622",
   "metadata": {},
   "outputs": [],
   "source": []
  },
  {
   "cell_type": "markdown",
   "id": "cda55af9",
   "metadata": {},
   "source": [
    "# 测试"
   ]
  },
  {
   "cell_type": "code",
   "execution_count": 21,
   "id": "98291941",
   "metadata": {},
   "outputs": [],
   "source": [
    "# relations = [\"目录\", \"前置\", \"句子共现\", \"段落共现\", \"频繁项集\"]  # pending\n",
    "\n",
    "# conversation_list = [\n",
    "#     {\n",
    "#         \"role\": \"system\",\n",
    "#         \"content\": \"请只提取文本中的命名实体，格式为[{entity_A}, {entity_B}, ...], 不要返回任何其他内容\",\n",
    "#     }\n",
    "# ]\n",
    "\n",
    "# bot = Chat(conversation_list)\n",
    "# answer = bot.ask(content_dict[\"1.1\"][1])"
   ]
  },
  {
   "cell_type": "code",
   "execution_count": null,
   "id": "c2292fbf",
   "metadata": {
    "scrolled": true
   },
   "outputs": [],
   "source": [
    "# res_tiny = [i.strip() for i in re.sub('\"|}|{||\\[|\\]', \"\", answer).split(\",\")]"
   ]
  },
  {
   "cell_type": "markdown",
   "id": "b5849673",
   "metadata": {},
   "source": [
    "# 一些其他尝试\n",
    "\n",
    "N - Gram\n"
   ]
  },
  {
   "cell_type": "code",
   "execution_count": 17,
   "id": "849fd60d",
   "metadata": {
    "scrolled": false
   },
   "outputs": [],
   "source": [
    "# 暂时没有探索结果\n",
    "# all_text = re.sub('[^A-Za-z0-9\\.]+', ' ', text).lower().split(' ')\n",
    "# ng1 = collections.defaultdict(int)\n",
    "# ng2 = collections.defaultdict(int)\n",
    "# ng3 = collections.defaultdict(int)\n",
    "# ng4 = collections.defaultdict(int)\n",
    "# for i, j in enumerate(all_text):\n",
    "#     ng1[j] += 1\n",
    "#     if i > 0: ng2[(all_text[i-1], j)] += 1\n",
    "#     if i > 1: ng3[(all_text[i-2], all_text[i-1], j)] += 1\n",
    "#     if i > 2: ng4[(all_text[i-3], all_text[i-2], all_text[i-1], j)] += 1\n",
    "\n",
    "# def sort_feq(dic):\n",
    "#     return sorted([(k, v) for k, v in dic.items()], key=lambda x: x[1], reverse=True)"
   ]
  },
  {
   "cell_type": "markdown",
   "id": "ad64b84f",
   "metadata": {},
   "source": [
    "### 定义 Chat 类"
   ]
  },
  {
   "cell_type": "code",
   "execution_count": 19,
   "id": "9e486417",
   "metadata": {},
   "outputs": [],
   "source": [
    "# def total_counts(response):\n",
    "#     tokens_nums = int(response[\"usage\"][\"total_tokens\"])\n",
    "#     price = 0.002 / 1000\n",
    "#     cost = \"{:.5f}\".format(price * tokens_nums * 7.5)\n",
    "#     print(f\"tokens: {tokens_nums}, cost: {cost}\")\n",
    "\n",
    "#     return float(cost)"
   ]
  },
  {
   "cell_type": "code",
   "execution_count": 20,
   "id": "aaf30deb",
   "metadata": {
    "scrolled": false
   },
   "outputs": [],
   "source": [
    "# class Chat:\n",
    "#     def __init__(self, conversation_list=[]):\n",
    "#         self.conversation_list = conversation_list\n",
    "#         self.costs_list = []\n",
    "\n",
    "#     def show_conversation(self, msg_list):\n",
    "#         for msg in msg_list[-2:]:\n",
    "#             if msg[\"role\"] == \"user\":\n",
    "#                 pass\n",
    "#             else:\n",
    "#                 message = msg[\"content\"]\n",
    "#                 print(f\"\\U0001f47D: {message}\\n\")\n",
    "#             print()\n",
    "\n",
    "#     def ask(self, prompt):\n",
    "#         self.conversation_list.append({\"role\": \"user\", \"content\": prompt})\n",
    "#         openai.api_key = \"sk-D1u13WweY1LhWLqv95Ml7e3y8f8ToSfsTkGnlgvSQLqZJptC\"\n",
    "#         response = openai.ChatCompletion.create(\n",
    "#             model=\"gpt-3.5-turbo\", messages=self.conversation_list\n",
    "#         )\n",
    "#         answer = response.choices[0].message[\"content\"]\n",
    "\n",
    "#         self.conversation_list.append({\"role\": \"assistant\", \"content\": answer})\n",
    "#         self.show_conversation(self.conversation_list)\n",
    "\n",
    "#         cost = total_counts(response)\n",
    "#         self.costs_list.append(cost)\n",
    "#         return answer\n",
    "#         print()"
   ]
  }
 ],
 "metadata": {
  "kernelspec": {
   "display_name": "Python 3 (ipykernel)",
   "language": "python",
   "name": "python3"
  },
  "language_info": {
   "codemirror_mode": {
    "name": "ipython",
    "version": 3
   },
   "file_extension": ".py",
   "mimetype": "text/x-python",
   "name": "python",
   "nbconvert_exporter": "python",
   "pygments_lexer": "ipython3",
   "version": "3.11.5"
  }
 },
 "nbformat": 4,
 "nbformat_minor": 5
}
