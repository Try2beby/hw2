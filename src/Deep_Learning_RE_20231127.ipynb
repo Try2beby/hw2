{
 "cells": [
  {
   "cell_type": "code",
   "execution_count": 6,
   "id": "65544ba8",
   "metadata": {},
   "outputs": [],
   "source": [
    "import collections\n",
    "import json\n",
    "import os\n",
    "import re\n",
    "import wikipedia\n",
    "\n",
    "import ahocorasick\n",
    "import openai\n",
    "import pdfplumber\n",
    "from pdfminer.high_level import extract_text\n",
    "\n",
    "dataDir = \"../data/\"\n",
    "dataName = \"Deep Learning.pdf\""
   ]
  },
  {
   "cell_type": "markdown",
   "id": "0bad0e7c",
   "metadata": {},
   "source": [
    "# 设置 api\n"
   ]
  },
  {
   "cell_type": "code",
   "execution_count": 7,
   "id": "80d6d00d",
   "metadata": {},
   "outputs": [],
   "source": [
    "openai.api_base = \"https://api.chatanywhere.com.cn/v1\"\n",
    "# openai.api_base = 'https://api.chatanywhere.cn/v1'\n",
    "openai.api_key = \"sk-D1u13WweY1LhWLqv95Ml7e3y8f8ToSfsTkGnlgvSQLqZJptC\""
   ]
  },
  {
   "cell_type": "code",
   "execution_count": 8,
   "id": "a068fc59-e078-468f-95a0-5937f26aeb6f",
   "metadata": {
    "tags": []
   },
   "outputs": [],
   "source": [
    "# import torch\n",
    "# from transformers import AutoModelForCausalLM, AutoTokenizer\n",
    "# tokenizer = AutoTokenizer.from_pretrained(\"baichuan-inc/Baichuan2-7B-Base\", use_fast=False, trust_remote_code=True)\n",
    "# model = AutoModelForCausalLM.from_pretrained(\"baichuan-inc/Baichuan2-7B-Base\", trust_remote_code=True)\n",
    "\n",
    "# device = torch.device(\"cuda\" if torch.cuda.is_available() else \"cpu\")\n",
    "\n",
    "# inputs = tokenizer('登鹳雀楼->王之涣\\n夜雨寄北->', return_tensors='pt')\n",
    "# inputs = inputs.to('cuda:0')\n",
    "# pred = model.generate(**inputs, max_new_tokens=64, repetition_penalty=1.1)\n",
    "# print(tokenizer.decode(pred.cpu()[0], skip_special_tokens=True))"
   ]
  },
  {
   "cell_type": "markdown",
   "id": "02b80029",
   "metadata": {},
   "source": [
    "# 一，读取数据\n"
   ]
  },
  {
   "cell_type": "markdown",
   "id": "590efdbd",
   "metadata": {},
   "source": [
    "## 生成目录架构\n",
    "\n",
    "- 生成**章节名称**与**章节序号**的对应：`name_dict`\n",
    "- 以及**章节序号**与**章节页码**范围的对应：`index_dict`\n"
   ]
  },
  {
   "cell_type": "code",
   "execution_count": 9,
   "id": "1612cd29",
   "metadata": {},
   "outputs": [],
   "source": [
    "with pdfplumber.open(dataDir + dataName) as f:\n",
    "    # 目录架构生成\n",
    "    c, p, n = [], [], []\n",
    "    for i in range(7):\n",
    "        page = f.pages[i]\n",
    "        text = page.extract_text()\n",
    "        text_split = text.split(\"\\n\")\n",
    "        for i in text_split:\n",
    "            if bool(re.match(\"[0-9]+\\.[0-9]+\", i.split(\" \")[0])):\n",
    "                c.append(i.split(\" \")[0])\n",
    "                p.append(i.split(\" \")[-1])\n",
    "            if bool(re.match(\"[0-9]+\", i.split(\" \")[0])):\n",
    "                for j in i.split(\" \"):\n",
    "                    if bool(re.match(\"[A-Za-z]+\", j)):\n",
    "                        n.append((i.split(\" \")[0], j))"
   ]
  },
  {
   "cell_type": "markdown",
   "id": "b65673d5",
   "metadata": {},
   "source": [
    "### name_dict\n"
   ]
  },
  {
   "cell_type": "code",
   "execution_count": 10,
   "id": "665533ac",
   "metadata": {},
   "outputs": [],
   "source": [
    "name_dict = {}\n",
    "for i, j in n:\n",
    "    if i in name_dict:\n",
    "        name_dict[i] = name_dict.get(i, \"\") + \" \" + j\n",
    "    else:\n",
    "        name_dict[i] = name_dict.get(i, \"\") + j"
   ]
  },
  {
   "cell_type": "markdown",
   "id": "faf6bbf5",
   "metadata": {},
   "source": [
    "### index_dict\n"
   ]
  },
  {
   "cell_type": "code",
   "execution_count": 11,
   "id": "98571f7f",
   "metadata": {},
   "outputs": [],
   "source": [
    "p_range = list(zip(p, p[1:]))\n",
    "p_range.append((720, 800))\n",
    "c_p_range = list(zip(c, p_range))\n",
    "index_dict = collections.defaultdict(list)\n",
    "for k, v in c_p_range:\n",
    "    index_dict[k.split(\".\")[0]].append((k, v))"
   ]
  },
  {
   "cell_type": "markdown",
   "id": "8b056028",
   "metadata": {},
   "source": [
    "## 生成内容表\n",
    "\n",
    "- 段落内容表：`content_dict`\n"
   ]
  },
  {
   "cell_type": "code",
   "execution_count": 12,
   "id": "7993e527",
   "metadata": {
    "scrolled": true
   },
   "outputs": [],
   "source": [
    "with pdfplumber.open(dataDir + dataName) as f:\n",
    "    content_dict = collections.defaultdict(list)\n",
    "\n",
    "    for k, v in index_dict.items():\n",
    "        for i in v:\n",
    "            page_range = i[-1]\n",
    "\n",
    "            for j in range(int(page_range[0]), int(page_range[1])):\n",
    "                page = f.pages[j]\n",
    "\n",
    "                text = page.extract_text().replace('\\n', ' ')\n",
    "\n",
    "                content_dict[i[0]].append(text)"
   ]
  },
  {
   "cell_type": "markdown",
   "id": "f71bd1b8",
   "metadata": {},
   "source": [
    "# 二，Build Relations"
   ]
  },
  {
   "cell_type": "markdown",
   "id": "f30146ad",
   "metadata": {},
   "source": [
    "## 目录 + 前置"
   ]
  },
  {
   "cell_type": "code",
   "execution_count": 13,
   "id": "38dd4d7d",
   "metadata": {},
   "outputs": [],
   "source": [
    "def catalogue_relations(dataName, name_dict=None, relation_type=[\"目录\", \"前置\"]):\n",
    "    c_relations = []\n",
    "    p_relations = []\n",
    "    if not name_dict:\n",
    "        name_dict = {}\n",
    "    for k, v in name_dict.items():\n",
    "        if bool(re.match(\"[0-9]+\\.[0-9]+\", k)):\n",
    "            p_relations.append(\n",
    "                [\n",
    "                    k.split(\".\")[0] + \" \" + name_dict[k.split(\".\")[0]],\n",
    "                    relation_type[1],\n",
    "                    k + \" \" + v,\n",
    "                ]\n",
    "            )\n",
    "        else:\n",
    "            c_relations.append(\n",
    "                [\n",
    "                    dataName,\n",
    "                    relation_type[0],\n",
    "                    k + \" \" + v,\n",
    "                ]\n",
    "            )\n",
    "    return p_relations, c_relations"
   ]
  },
  {
   "cell_type": "code",
   "execution_count": 14,
   "id": "14ec1631-fccf-4ae6-8095-aaf1e03e4ee1",
   "metadata": {
    "tags": []
   },
   "outputs": [],
   "source": [
    "p_relations, c_relations = catalogue_relations(\n",
    "    dataName=dataName.split(\".\")[0], name_dict=name_dict\n",
    ")"
   ]
  },
  {
   "cell_type": "markdown",
   "id": "517c6694-6ee9-4347-854a-c2caf41895ad",
   "metadata": {
    "tags": []
   },
   "source": [
    "## 包含 + 段落共现"
   ]
  },
  {
   "cell_type": "markdown",
   "id": "33964ebb-e42e-498a-982d-2bdfa5ceafd3",
   "metadata": {},
   "source": [
    "### AC自动机"
   ]
  },
  {
   "cell_type": "code",
   "execution_count": 15,
   "id": "c3374c69-3635-4a74-97d9-0394405c1756",
   "metadata": {
    "tags": []
   },
   "outputs": [],
   "source": [
    "def build(patterns):\n",
    "    trie = ahocorasick.Automaton()\n",
    "    for index, word in enumerate(patterns):\n",
    "        trie.add_word(word, (index, word))\n",
    "    trie.make_automaton()\n",
    "    return trie"
   ]
  },
  {
   "cell_type": "code",
   "execution_count": 57,
   "id": "95fa4b1d-495c-4cb7-9ea0-c17e630472c8",
   "metadata": {
    "tags": []
   },
   "outputs": [],
   "source": [
    "data = []\n",
    "for i in range(1, 21):\n",
    "    with open(dataDir + 'relations/' + 'kb_chapter_' + str(i) + '.json', 'r') as f:\n",
    "        data.append([i, json.load(f)])"
   ]
  },
  {
   "cell_type": "code",
   "execution_count": 58,
   "id": "4c3da1a4-a7c1-4be7-95a5-a3e39c89ffcb",
   "metadata": {},
   "outputs": [
    {
     "name": "stdout",
     "output_type": "stream",
     "text": [
      "1 28\n",
      "2 20\n",
      "3 20\n",
      "4 22\n",
      "5 99\n",
      "6 23\n",
      "7 37\n",
      "8 51\n",
      "9 33\n",
      "10 20\n",
      "11 27\n",
      "12 67\n",
      "13 6\n",
      "14 9\n",
      "15 30\n",
      "16 5\n",
      "17 10\n",
      "18 19\n",
      "19 22\n",
      "20 62\n"
     ]
    }
   ],
   "source": [
    "for i in data:\n",
    "    print(i[0], len(i[1]))"
   ]
  },
  {
   "cell_type": "code",
   "execution_count": 59,
   "id": "f2f887bc-6d13-46b8-a844-ea51219142c6",
   "metadata": {
    "tags": []
   },
   "outputs": [],
   "source": [
    "entity_set = set()\n",
    "for i in data:\n",
    "    for relation in i[1]:\n",
    "        if relation[0] not in entity_set:\n",
    "            entity_set.add(relation[0])\n",
    "        if relation[2] not in entity_set:\n",
    "            entity_set.add(relation[2])"
   ]
  },
  {
   "cell_type": "code",
   "execution_count": 62,
   "id": "c908f480-e09f-4027-b88d-567d9d5693f4",
   "metadata": {
    "tags": []
   },
   "outputs": [],
   "source": [
    "num = 0\n",
    "for i in entity_set:\n",
    "    if not bool(re.match(\"^(\\d+|[A-Za-z])$\", i)):\n",
    "        num += 1"
   ]
  },
  {
   "cell_type": "code",
   "execution_count": 63,
   "id": "8c3c5107-35dd-4e46-becf-eb5ef6da92ae",
   "metadata": {
    "tags": []
   },
   "outputs": [
    {
     "data": {
      "text/plain": [
       "289"
      ]
     },
     "execution_count": 63,
     "metadata": {},
     "output_type": "execute_result"
    }
   ],
   "source": [
    "num"
   ]
  },
  {
   "cell_type": "code",
   "execution_count": 48,
   "id": "6db9746b-2e5d-4ba1-9acf-d6911be6c9bd",
   "metadata": {
    "tags": []
   },
   "outputs": [],
   "source": [
    "def include_co_presence(entity_set):\n",
    "    patterns = list(entity_set)\n",
    "    trie = build(patterns)\n",
    "    include_relations = []\n",
    "    co_presence_relations = set()\n",
    "    for chapter, sections in index_dict.items():\n",
    "        for section in sections:\n",
    "            for content in content_dict[section[0]]:\n",
    "                word_set = set(word[1][1] for word in trie.iter(content))\n",
    "                for head in word_set:\n",
    "                    if not bool(re.match(\"^(\\d+|[A-Za-z])$\", head)):\n",
    "                        include_relations.append(\n",
    "                            [section[0] + \" \" + name_dict[section[0]], \"include\", head]\n",
    "                        )\n",
    "                        for tail in word_set:\n",
    "                            if head != tail and not bool(\n",
    "                                re.match(\"^(\\d+|[A-Za-z])$\", tail)\n",
    "                            ):\n",
    "                                if (\n",
    "                                    tail,\n",
    "                                    \"co_presence\",\n",
    "                                    head,\n",
    "                                ) not in co_presence_relations:\n",
    "                                    co_presence_relations.add(\n",
    "                                        (head, \"co_presence\", tail)\n",
    "                                    )\n",
    "    return include_relations, co_presence_relations"
   ]
  },
  {
   "cell_type": "code",
   "execution_count": 49,
   "id": "ab6d9231-654f-4697-9515-3079672ed128",
   "metadata": {
    "tags": []
   },
   "outputs": [],
   "source": [
    "include_relations, co_presence_relations = include_co_presence(entity_set)"
   ]
  },
  {
   "cell_type": "markdown",
   "id": "e319119a-cd22-4a74-b941-cfddd2052873",
   "metadata": {
    "tags": []
   },
   "source": [
    "## 结果展示"
   ]
  },
  {
   "cell_type": "code",
   "execution_count": 50,
   "id": "d66e3ea7-0d49-488c-8dae-394d1b2976d5",
   "metadata": {
    "tags": []
   },
   "outputs": [
    {
     "data": {
      "text/plain": [
       "['1 Introduction', '前置', '1.1 Who Should Read This Book?']"
      ]
     },
     "execution_count": 50,
     "metadata": {},
     "output_type": "execute_result"
    }
   ],
   "source": [
    "p_relations[0]"
   ]
  },
  {
   "cell_type": "code",
   "execution_count": 51,
   "id": "abf4941e-e982-41f1-b41c-5322c7e52238",
   "metadata": {
    "tags": []
   },
   "outputs": [
    {
     "data": {
      "text/plain": [
       "['Deep Learning', '目录', '1 Introduction']"
      ]
     },
     "execution_count": 51,
     "metadata": {},
     "output_type": "execute_result"
    }
   ],
   "source": [
    "c_relations[0]"
   ]
  },
  {
   "cell_type": "code",
   "execution_count": 52,
   "id": "3fa90760-e6bd-4056-a566-092cad016f3d",
   "metadata": {
    "tags": []
   },
   "outputs": [
    {
     "data": {
      "text/plain": [
       "1508"
      ]
     },
     "execution_count": 52,
     "metadata": {},
     "output_type": "execute_result"
    }
   ],
   "source": [
    "len(co_presence_relations)"
   ]
  },
  {
   "cell_type": "code",
   "execution_count": 53,
   "id": "2779489f-06c4-4af9-8959-daefd2d748f3",
   "metadata": {},
   "outputs": [
    {
     "data": {
      "text/plain": [
       "['1.1 Who Should Read This Book?', 'include', 'Computation']"
      ]
     },
     "execution_count": 53,
     "metadata": {},
     "output_type": "execute_result"
    }
   ],
   "source": [
    "include_relations[0]"
   ]
  },
  {
   "cell_type": "code",
   "execution_count": 54,
   "id": "50b2c125-a610-4ca4-9f86-54189d45bc53",
   "metadata": {
    "tags": []
   },
   "outputs": [],
   "source": [
    "structure_relations = (\n",
    "    p_relations + c_relations + list(co_presence_relations) + include_relations\n",
    ")"
   ]
  },
  {
   "cell_type": "code",
   "execution_count": 55,
   "id": "8a648211-88c3-4493-b165-47710300077d",
   "metadata": {
    "tags": []
   },
   "outputs": [
    {
     "data": {
      "text/plain": [
       "3080"
      ]
     },
     "execution_count": 55,
     "metadata": {},
     "output_type": "execute_result"
    }
   ],
   "source": [
    "len(structure_relations)"
   ]
  },
  {
   "cell_type": "code",
   "execution_count": 56,
   "id": "031f1845-3a55-487c-9da9-555aa5c33aa0",
   "metadata": {
    "tags": []
   },
   "outputs": [],
   "source": [
    "with open(os.path.join(dataDir + \"/relations\", f\"structure_relations.json\"), \"w\") as f:\n",
    "    json.dump(structure_relations, f, indent=4)"
   ]
  },
  {
   "cell_type": "markdown",
   "id": "cda55af9",
   "metadata": {},
   "source": [
    "# 测试"
   ]
  },
  {
   "cell_type": "code",
   "execution_count": null,
   "id": "98291941",
   "metadata": {},
   "outputs": [],
   "source": [
    "# relations = [\"目录\", \"前置\", \"句子共现\", \"段落共现\", \"频繁项集\"]  # pending\n",
    "\n",
    "# conversation_list = [\n",
    "#     {\n",
    "#         \"role\": \"system\",\n",
    "#         \"content\": \"请只提取文本中的命名实体，格式为[{entity_A}, {entity_B}, ...], 不要返回任何其他内容\",\n",
    "#     }\n",
    "# ]\n",
    "\n",
    "# bot = Chat(conversation_list)\n",
    "# answer = bot.ask(content_dict[\"1.1\"][1])"
   ]
  },
  {
   "cell_type": "code",
   "execution_count": null,
   "id": "c2292fbf",
   "metadata": {
    "scrolled": true
   },
   "outputs": [],
   "source": [
    "# res_tiny = [i.strip() for i in re.sub('\"|}|{||\\[|\\]', \"\", answer).split(\",\")]"
   ]
  },
  {
   "cell_type": "markdown",
   "id": "b5849673",
   "metadata": {},
   "source": [
    "# 一些其他尝试\n",
    "\n",
    "N - Gram\n"
   ]
  },
  {
   "cell_type": "code",
   "execution_count": null,
   "id": "849fd60d",
   "metadata": {},
   "outputs": [],
   "source": [
    "# 暂时没有探索结果\n",
    "# all_text = re.sub('[^A-Za-z0-9\\.]+', ' ', text).lower().split(' ')\n",
    "# ng1 = collections.defaultdict(int)\n",
    "# ng2 = collections.defaultdict(int)\n",
    "# ng3 = collections.defaultdict(int)\n",
    "# ng4 = collections.defaultdict(int)\n",
    "# for i, j in enumerate(all_text):\n",
    "#     ng1[j] += 1\n",
    "#     if i > 0: ng2[(all_text[i-1], j)] += 1\n",
    "#     if i > 1: ng3[(all_text[i-2], all_text[i-1], j)] += 1\n",
    "#     if i > 2: ng4[(all_text[i-3], all_text[i-2], all_text[i-1], j)] += 1\n",
    "\n",
    "# def sort_feq(dic):\n",
    "#     return sorted([(k, v) for k, v in dic.items()], key=lambda x: x[1], reverse=True)"
   ]
  },
  {
   "cell_type": "markdown",
   "id": "ad64b84f",
   "metadata": {},
   "source": [
    "### 定义 Chat 类"
   ]
  },
  {
   "cell_type": "code",
   "execution_count": null,
   "id": "9e486417",
   "metadata": {},
   "outputs": [],
   "source": [
    "# def total_counts(response):\n",
    "#     tokens_nums = int(response[\"usage\"][\"total_tokens\"])\n",
    "#     price = 0.002 / 1000\n",
    "#     cost = \"{:.5f}\".format(price * tokens_nums * 7.5)\n",
    "#     print(f\"tokens: {tokens_nums}, cost: {cost}\")\n",
    "\n",
    "#     return float(cost)"
   ]
  },
  {
   "cell_type": "code",
   "execution_count": null,
   "id": "aaf30deb",
   "metadata": {},
   "outputs": [],
   "source": [
    "# class Chat:\n",
    "#     def __init__(self, conversation_list=[]):\n",
    "#         self.conversation_list = conversation_list\n",
    "#         self.costs_list = []\n",
    "\n",
    "#     def show_conversation(self, msg_list):\n",
    "#         for msg in msg_list[-2:]:\n",
    "#             if msg[\"role\"] == \"user\":\n",
    "#                 pass\n",
    "#             else:\n",
    "#                 message = msg[\"content\"]\n",
    "#                 print(f\"\\U0001f47D: {message}\\n\")\n",
    "#             print()\n",
    "\n",
    "#     def ask(self, prompt):\n",
    "#         self.conversation_list.append({\"role\": \"user\", \"content\": prompt})\n",
    "#         openai.api_key = \"sk-D1u13WweY1LhWLqv95Ml7e3y8f8ToSfsTkGnlgvSQLqZJptC\"\n",
    "#         response = openai.ChatCompletion.create(\n",
    "#             model=\"gpt-3.5-turbo\", messages=self.conversation_list\n",
    "#         )\n",
    "#         answer = response.choices[0].message[\"content\"]\n",
    "\n",
    "#         self.conversation_list.append({\"role\": \"assistant\", \"content\": answer})\n",
    "#         self.show_conversation(self.conversation_list)\n",
    "\n",
    "#         cost = total_counts(response)\n",
    "#         self.costs_list.append(cost)\n",
    "#         return answer\n",
    "#         print()"
   ]
  }
 ],
 "metadata": {
  "kernelspec": {
   "display_name": "Python 3 (ipykernel)",
   "language": "python",
   "name": "python3"
  },
  "language_info": {
   "codemirror_mode": {
    "name": "ipython",
    "version": 3
   },
   "file_extension": ".py",
   "mimetype": "text/x-python",
   "name": "python",
   "nbconvert_exporter": "python",
   "pygments_lexer": "ipython3",
   "version": "3.11.5"
  }
 },
 "nbformat": 4,
 "nbformat_minor": 5
}
