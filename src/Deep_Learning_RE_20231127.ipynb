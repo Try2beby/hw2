{
 "cells": [
  {
   "cell_type": "code",
   "execution_count": 38,
   "id": "65544ba8",
   "metadata": {},
   "outputs": [],
   "source": [
    "import collections\n",
    "import json\n",
    "import os\n",
    "import re\n",
    "\n",
    "import ahocorasick\n",
    "import openai\n",
    "import pdfplumber\n",
    "from pdfminer.high_level import extract_text\n",
    "\n",
    "dataDir = \"../data/\"\n",
    "dataName = \"Deep Learning.pdf\""
   ]
  },
  {
   "cell_type": "markdown",
   "id": "0bad0e7c",
   "metadata": {},
   "source": [
    "# 设置 api\n"
   ]
  },
  {
   "cell_type": "code",
   "execution_count": 5,
   "id": "80d6d00d",
   "metadata": {},
   "outputs": [],
   "source": [
    "openai.api_base = \"https://api.chatanywhere.com.cn/v1\"\n",
    "# openai.api_base = 'https://api.chatanywhere.cn/v1'\n",
    "openai.api_key = \"sk-D1u13WweY1LhWLqv95Ml7e3y8f8ToSfsTkGnlgvSQLqZJptC\""
   ]
  },
  {
   "cell_type": "markdown",
   "id": "02b80029",
   "metadata": {},
   "source": [
    "# 一，读取数据\n"
   ]
  },
  {
   "cell_type": "code",
   "execution_count": 6,
   "id": "dfa24280",
   "metadata": {},
   "outputs": [],
   "source": [
    "# 不选择用这种方式读取，用pdfplumber更好\n",
    "# text = extract_text('./Deep Learning (Ian Goodfellow, Yoshua Bengio, Aaron Courville).pdf')"
   ]
  },
  {
   "cell_type": "markdown",
   "id": "590efdbd",
   "metadata": {},
   "source": [
    "## 生成目录架构\n",
    "\n",
    "- 生成**章节名称**与**章节序号**的对应：`name_dict`\n",
    "- 以及**章节序号**与**章节页码**范围的对应：`index_dict`\n"
   ]
  },
  {
   "cell_type": "code",
   "execution_count": 7,
   "id": "1612cd29",
   "metadata": {},
   "outputs": [],
   "source": [
    "with pdfplumber.open(dataDir + dataName) as f:\n",
    "    # 目录架构生成\n",
    "    c, p, n = [], [], []\n",
    "    for i in range(7):\n",
    "        page = f.pages[i]\n",
    "        text = page.extract_text()\n",
    "        text_split = text.split(\"\\n\")\n",
    "        for i in text_split:\n",
    "            if bool(re.match(\"[0-9]+\\.[0-9]+\", i.split(\" \")[0])):\n",
    "                c.append(i.split(\" \")[0])\n",
    "                p.append(i.split(\" \")[-1])\n",
    "            if bool(re.match(\"[0-9]+\", i.split(\" \")[0])):\n",
    "                for j in i.split(\" \"):\n",
    "                    if bool(re.match(\"[A-Za-z]+\", j)):\n",
    "                        n.append((i.split(\" \")[0], j))"
   ]
  },
  {
   "cell_type": "markdown",
   "id": "b65673d5",
   "metadata": {},
   "source": [
    "### name_dict\n"
   ]
  },
  {
   "cell_type": "code",
   "execution_count": 8,
   "id": "665533ac",
   "metadata": {},
   "outputs": [],
   "source": [
    "name_dict = {}\n",
    "for i, j in n:\n",
    "    if i in name_dict:\n",
    "        name_dict[i] = name_dict.get(i, \"\") + \" \" + j\n",
    "    else:\n",
    "        name_dict[i] = name_dict.get(i, \"\") + j"
   ]
  },
  {
   "cell_type": "markdown",
   "id": "faf6bbf5",
   "metadata": {},
   "source": [
    "### index_dict\n"
   ]
  },
  {
   "cell_type": "code",
   "execution_count": 9,
   "id": "98571f7f",
   "metadata": {},
   "outputs": [],
   "source": [
    "p_range = list(zip(p, p[1:]))\n",
    "p_range.append((720, 800))\n",
    "c_p_range = list(zip(c, p_range))\n",
    "index_dict = collections.defaultdict(list)\n",
    "for k, v in c_p_range:\n",
    "    index_dict[k.split(\".\")[0]].append((k, v))"
   ]
  },
  {
   "cell_type": "markdown",
   "id": "8b056028",
   "metadata": {},
   "source": [
    "## 生成内容表\n",
    "\n",
    "- 段落内容表：`content_dict`\n",
    "- 句子内容表：`sentence_dict`\n"
   ]
  },
  {
   "cell_type": "code",
   "execution_count": 10,
   "id": "7993e527",
   "metadata": {
    "scrolled": true
   },
   "outputs": [],
   "source": [
    "with pdfplumber.open(dataDir + dataName) as f:\n",
    "    content_dict = collections.defaultdict(list)\n",
    "\n",
    "    sentence_dict = collections.defaultdict(list)\n",
    "\n",
    "    for k, v in index_dict.items():\n",
    "        for i in v:\n",
    "            page_range = i[-1]\n",
    "\n",
    "            for j in range(int(page_range[0]), int(page_range[1])):\n",
    "                page = f.pages[j]\n",
    "\n",
    "                text = page.extract_text().replace(\"\\n\", \" \")\n",
    "\n",
    "                content_dict[i[0]].append(text)\n",
    "\n",
    "                text_split = text.split(\".\")\n",
    "\n",
    "                for t in text_split:\n",
    "                    sentence_dict[i[0]].append(t)\n",
    "\n",
    "        break"
   ]
  },
  {
   "cell_type": "markdown",
   "id": "f71bd1b8",
   "metadata": {},
   "source": [
    "# 二，Build Relations"
   ]
  },
  {
   "cell_type": "markdown",
   "id": "f30146ad",
   "metadata": {
    "jp-MarkdownHeadingCollapsed": true,
    "tags": []
   },
   "source": [
    "## 目录 + 前置"
   ]
  },
  {
   "cell_type": "code",
   "execution_count": 30,
   "id": "38dd4d7d",
   "metadata": {},
   "outputs": [],
   "source": [
    "def catalogue_relations(dataName, name_dict=None, relation_type=[\"目录\", \"前置\"]):\n",
    "    c_relations = []\n",
    "    p_relations = []\n",
    "    if not name_dict:\n",
    "        name_dict = {}\n",
    "    for k, v in name_dict.items():\n",
    "        if bool(re.match(\"[0-9]+\\.[0-9]+\", k)):\n",
    "            p_relations.append(\n",
    "                {\n",
    "                    \"head\": k.split(\".\")[0] + \" \" + name_dict[k.split(\".\")[0]],\n",
    "                    \"type\": relation_type[1],\n",
    "                    \"tail\": k + \" \" + v,\n",
    "                }\n",
    "            )\n",
    "        else:\n",
    "            c_relations.append(\n",
    "                {\n",
    "                    \"head\": dataName,\n",
    "                    \"type\": relation_type[0],\n",
    "                    \"tail\": k + \" \" + v,\n",
    "                }\n",
    "            )\n",
    "    return p_relations, c_relations"
   ]
  },
  {
   "cell_type": "code",
   "execution_count": 31,
   "id": "14ec1631-fccf-4ae6-8095-aaf1e03e4ee1",
   "metadata": {
    "tags": []
   },
   "outputs": [],
   "source": [
    "p_relations, c_relations = catalogue_relations(\n",
    "    dataName=dataName.split(\".\")[0], name_dict=name_dict\n",
    ")"
   ]
  },
  {
   "cell_type": "markdown",
   "id": "1bf04e94-9ace-4650-bc60-ac83470f10af",
   "metadata": {
    "jp-MarkdownHeadingCollapsed": true,
    "tags": []
   },
   "source": [
    "## PlanA\n",
    "根据Section抽取关系，可以比较容易且准确的判断出包含、段落共现、句子共现的关系"
   ]
  },
  {
   "cell_type": "code",
   "execution_count": 55,
   "id": "5cce916f-f35a-4eae-865c-089a280bca7c",
   "metadata": {
    "tags": []
   },
   "outputs": [],
   "source": [
    "with open(os.path.join(dataDir, \"chapter1_read_by_sections.json\"), \"r\") as f:\n",
    "    chapter1_read_by_section = json.load(f)"
   ]
  },
  {
   "cell_type": "code",
   "execution_count": 55,
   "id": "e7029cf1-a0a0-400a-a465-3fc28f49b740",
   "metadata": {
    "tags": []
   },
   "outputs": [],
   "source": [
    "entity_dict = {}\n",
    "for i in chapter1_read_by_section:\n",
    "    for k, v in i.items():\n",
    "        entity_set = set()\n",
    "        for relation in v:\n",
    "            if relation['head'] not in entity_set:\n",
    "                entity_set.add(relation['head'])\n",
    "            if relation['tail'] not in entity_set:\n",
    "                entity_set.add(relation['tail'])\n",
    "        entity_dict[k] = entity_set"
   ]
  },
  {
   "cell_type": "markdown",
   "id": "33964ebb-e42e-498a-982d-2bdfa5ceafd3",
   "metadata": {},
   "source": [
    "### AC自动机"
   ]
  },
  {
   "cell_type": "code",
   "execution_count": 117,
   "id": "c3374c69-3635-4a74-97d9-0394405c1756",
   "metadata": {
    "tags": []
   },
   "outputs": [],
   "source": [
    "def build(patterns):\n",
    "    trie = ahocorasick.Automaton()\n",
    "    for index, word in enumerate(patterns):\n",
    "        trie.add_word(word, (index, word))\n",
    "    trie.make_automaton()\n",
    "    return trie"
   ]
  },
  {
   "cell_type": "markdown",
   "id": "b8a705af-e416-47fe-aa54-f8db90b14245",
   "metadata": {},
   "source": [
    "### 包含"
   ]
  },
  {
   "cell_type": "code",
   "execution_count": 57,
   "id": "682c7c9d-f2be-4343-9cb1-2cffce47d5c2",
   "metadata": {
    "tags": []
   },
   "outputs": [],
   "source": [
    "include_relations = []\n",
    "for k, v in entity_dict.items():\n",
    "    for entity in v:\n",
    "        include_relations.append(\n",
    "            {\n",
    "                \"head\": k,\n",
    "                \"type\": \"包含\",\n",
    "                \"tail\": entity,\n",
    "            }\n",
    "        )"
   ]
  },
  {
   "cell_type": "code",
   "execution_count": 59,
   "id": "40dbfb5c-1675-4793-be27-41bcc6781673",
   "metadata": {
    "tags": []
   },
   "outputs": [
    {
     "data": {
      "text/plain": [
       "{'head': '1.1 Who Should Read This Book?',\n",
       " 'type': '包含',\n",
       " 'tail': 'machine learning'}"
      ]
     },
     "execution_count": 59,
     "metadata": {},
     "output_type": "execute_result"
    }
   ],
   "source": [
    "include_relations[0]"
   ]
  },
  {
   "cell_type": "markdown",
   "id": "ab14b17e",
   "metadata": {},
   "source": [
    "### 段落共现"
   ]
  },
  {
   "cell_type": "code",
   "execution_count": 121,
   "id": "5275f7fa",
   "metadata": {},
   "outputs": [],
   "source": [
    "def co_presence(entity_dict, relation_type):\n",
    "    if relation_type == \"sentence\":\n",
    "        text_dict = sentence_dict\n",
    "    elif relation_type == \"paragraph\":\n",
    "        text_dict = content_dict\n",
    "    relations = []\n",
    "    for k, v in entity_dict.items():\n",
    "        patterns = list(v)\n",
    "        for text in text_dict[k.split(\" \")[0]]:\n",
    "            trie = build(patterns)\n",
    "            word_set = set(word[1][1] for word in trie.iter(text))\n",
    "            if len(word_set) > 1:\n",
    "                relations.append(word_set)\n",
    "    return relations"
   ]
  },
  {
   "cell_type": "code",
   "execution_count": 122,
   "id": "1446fcb5-4e77-4ace-8620-5f4b5d9da1bf",
   "metadata": {
    "tags": []
   },
   "outputs": [],
   "source": [
    "paragraph_relations = co_presence(entity_dict, 'paragraph')"
   ]
  },
  {
   "cell_type": "code",
   "execution_count": 123,
   "id": "3f648861-ac5a-4b9b-88b7-fa3e461be429",
   "metadata": {
    "tags": []
   },
   "outputs": [
    {
     "data": {
      "text/plain": [
       "{'Applied Math',\n",
       " 'Applied Math and Machine Learning Basics',\n",
       " 'CNN',\n",
       " 'Deep Networks',\n",
       " 'Machine Learning',\n",
       " 'RNNs'}"
      ]
     },
     "execution_count": 123,
     "metadata": {},
     "output_type": "execute_result"
    }
   ],
   "source": [
    "paragraph_relations[8]"
   ]
  },
  {
   "cell_type": "markdown",
   "id": "44b0d836",
   "metadata": {},
   "source": [
    "### 句子共现"
   ]
  },
  {
   "cell_type": "code",
   "execution_count": 124,
   "id": "9ca712c0-0a55-4e1a-86e1-75b1cfaac10a",
   "metadata": {
    "tags": []
   },
   "outputs": [],
   "source": [
    "sentence_relations = co_presence(entity_dict, 'sentence')"
   ]
  },
  {
   "cell_type": "code",
   "execution_count": 125,
   "id": "bdbf3d73-f371-4ea2-9df9-9887484e339a",
   "metadata": {
    "tags": []
   },
   "outputs": [
    {
     "data": {
      "text/plain": [
       "{'algorithm', 'machine learning'}"
      ]
     },
     "execution_count": 125,
     "metadata": {},
     "output_type": "execute_result"
    }
   ],
   "source": [
    "sentence_relations[1]"
   ]
  },
  {
   "cell_type": "markdown",
   "id": "d233723f",
   "metadata": {},
   "source": [
    "### 频繁项集"
   ]
  },
  {
   "cell_type": "code",
   "execution_count": 118,
   "id": "1feaa622",
   "metadata": {},
   "outputs": [],
   "source": [
    "# ???"
   ]
  },
  {
   "cell_type": "markdown",
   "id": "517c6694-6ee9-4347-854a-c2caf41895ad",
   "metadata": {
    "jp-MarkdownHeadingCollapsed": true,
    "tags": []
   },
   "source": [
    "## PlanB\n",
    "按章抽取关系/全书抽取关系  \n",
    "包含：查看实体是否存在与一个section  \n",
    "段落共现、句子共现：设定阈值，根据实体与实体之间出现的距离判断  \n",
    "缺点是不准确  "
   ]
  },
  {
   "cell_type": "code",
   "execution_count": 119,
   "id": "f2f887bc-6d13-46b8-a844-ea51219142c6",
   "metadata": {
    "tags": []
   },
   "outputs": [],
   "source": [
    "entity_set = set()\n",
    "for i in chapter1_read_by_section:\n",
    "    for k, v in i.items():\n",
    "        for relation in v:\n",
    "            if relation[\"head\"] not in entity_set:\n",
    "                entity_set.add(relation[\"head\"])\n",
    "            if relation[\"tail\"] not in entity_set:\n",
    "                entity_set.add(relation[\"tail\"])"
   ]
  },
  {
   "cell_type": "code",
   "execution_count": 146,
   "id": "25375afd-2ee3-4bd7-ad2a-28ea288010a6",
   "metadata": {
    "tags": []
   },
   "outputs": [],
   "source": [
    "def co_presence(entity_dict, relation_type, threshold_value=[50, 500]):\n",
    "    patterns = list(entity_dict)\n",
    "    trie = build(patterns)\n",
    "    relations = []\n",
    "    for section in [\"1.1\", \"1.2\"]:\n",
    "        lines = \"\"\n",
    "        for line in content_dict[section]:\n",
    "            lines += line\n",
    "        word_set = set(word for word in trie.iter(text))\n",
    "        if relation_type == \"include\":\n",
    "            for word in word_set:\n",
    "                relations.append(\n",
    "                    {\n",
    "                        \"head\": section,\n",
    "                        \"type\": \"包含\",\n",
    "                        \"tail\": word[1][1],\n",
    "                    }\n",
    "                )\n",
    "        else:\n",
    "            if relation_type == \"sentence\":\n",
    "                threshold = range(0, threshold_value[0])\n",
    "                r_type = \"句子共现\"\n",
    "            elif relation_type == \"paragraph\":\n",
    "                threshold = range(threshold_value[0], threshold_value[1])\n",
    "                r_type = \"段落共现\"\n",
    "            for word_head in word_set:\n",
    "                for word_tail in word_set:\n",
    "                    if (\n",
    "                        word_head[0] - word_tail[0] in threshold\n",
    "                        and word_head[1][1] != word_tail[1][1]\n",
    "                    ):\n",
    "                        relations.append(\n",
    "                            {\n",
    "                                \"head\": word_head[1][1],\n",
    "                                \"type\": r_type,\n",
    "                                \"tail\": word_tail[1][1],\n",
    "                            }\n",
    "                        )\n",
    "    return relations"
   ]
  },
  {
   "cell_type": "markdown",
   "id": "982ae549-4450-4d00-a4c9-51c961b74530",
   "metadata": {},
   "source": [
    "### 包含"
   ]
  },
  {
   "cell_type": "code",
   "execution_count": 148,
   "id": "f9cf2e9d-6ef5-4ef4-b651-c20b78ec4e98",
   "metadata": {
    "tags": []
   },
   "outputs": [],
   "source": [
    "include_relations = co_presence(entity_set, 'include')"
   ]
  },
  {
   "cell_type": "markdown",
   "id": "f8527a01-6c98-4b38-a480-8e53955b1012",
   "metadata": {},
   "source": [
    "### 句子共现"
   ]
  },
  {
   "cell_type": "code",
   "execution_count": 150,
   "id": "cd7cb3ed-cd9c-45a2-8f64-c395b281658b",
   "metadata": {
    "tags": []
   },
   "outputs": [],
   "source": [
    "sentence_relations = co_presence(entity_set, 'sentence')"
   ]
  },
  {
   "cell_type": "markdown",
   "id": "70ba8227-bcc2-4b68-8fab-a925d6cb31e8",
   "metadata": {},
   "source": [
    "### 段落共现"
   ]
  },
  {
   "cell_type": "code",
   "execution_count": 152,
   "id": "9fc97461-e7f3-4bef-a0c8-6c7a6b1dc1fa",
   "metadata": {
    "tags": []
   },
   "outputs": [],
   "source": [
    "paragraph_relations = co_presence(entity_set, 'paragraph')"
   ]
  },
  {
   "cell_type": "markdown",
   "id": "0df8290e-cec8-4f7b-9738-a3997f8132cd",
   "metadata": {},
   "source": [
    "## 结果展示"
   ]
  },
  {
   "cell_type": "code",
   "execution_count": 33,
   "id": "d30d1c9a-2838-43a9-97ea-25704e958d5f",
   "metadata": {
    "tags": []
   },
   "outputs": [
    {
     "data": {
      "text/plain": [
       "{'head': '1 Introduction',\n",
       " 'type': '前置',\n",
       " 'tail': '1.1 Who Should Read This Book?'}"
      ]
     },
     "execution_count": 33,
     "metadata": {},
     "output_type": "execute_result"
    }
   ],
   "source": [
    "p_relations[0]"
   ]
  },
  {
   "cell_type": "code",
   "execution_count": 27,
   "id": "821eefcc-4007-4edf-a5e8-14ee5f37c791",
   "metadata": {
    "tags": []
   },
   "outputs": [
    {
     "data": {
      "text/plain": [
       "{'head': 'Deep Learning', 'type': '目录', 'tail': '1 Introduction'}"
      ]
     },
     "execution_count": 27,
     "metadata": {},
     "output_type": "execute_result"
    }
   ],
   "source": [
    "c_relations[0]"
   ]
  },
  {
   "cell_type": "code",
   "execution_count": 149,
   "id": "63233765-0087-49e0-9a25-a8b804629237",
   "metadata": {
    "tags": []
   },
   "outputs": [
    {
     "data": {
      "text/plain": [
       "{'head': '1.1', 'type': '包含', 'tail': 'deep learning'}"
      ]
     },
     "execution_count": 149,
     "metadata": {},
     "output_type": "execute_result"
    }
   ],
   "source": [
    "include_relations[0]"
   ]
  },
  {
   "cell_type": "code",
   "execution_count": 158,
   "id": "ecbdaaa3-0a8e-4dd6-a38a-c309dbfff618",
   "metadata": {
    "tags": []
   },
   "outputs": [
    {
     "data": {
      "text/plain": [
       "{'head': 'rectified linear unit', 'type': '句子共现', 'tail': 'neuron'}"
      ]
     },
     "execution_count": 158,
     "metadata": {},
     "output_type": "execute_result"
    }
   ],
   "source": [
    "sentence_relations[1]"
   ]
  },
  {
   "cell_type": "code",
   "execution_count": 159,
   "id": "aec83668-f96c-4ee9-9238-8472989589bb",
   "metadata": {
    "tags": []
   },
   "outputs": [
    {
     "data": {
      "text/plain": [
       "{'head': 'deep learning', 'type': '段落共现', 'tail': 'machine learning'}"
      ]
     },
     "execution_count": 159,
     "metadata": {},
     "output_type": "execute_result"
    }
   ],
   "source": [
    "paragraph_relations[1]"
   ]
  },
  {
   "cell_type": "markdown",
   "id": "cda55af9",
   "metadata": {},
   "source": [
    "# 测试"
   ]
  },
  {
   "cell_type": "code",
   "execution_count": null,
   "id": "98291941",
   "metadata": {},
   "outputs": [],
   "source": [
    "# relations = [\"目录\", \"前置\", \"句子共现\", \"段落共现\", \"频繁项集\"]  # pending\n",
    "\n",
    "# conversation_list = [\n",
    "#     {\n",
    "#         \"role\": \"system\",\n",
    "#         \"content\": \"请只提取文本中的命名实体，格式为[{entity_A}, {entity_B}, ...], 不要返回任何其他内容\",\n",
    "#     }\n",
    "# ]\n",
    "\n",
    "# bot = Chat(conversation_list)\n",
    "# answer = bot.ask(content_dict[\"1.1\"][1])"
   ]
  },
  {
   "cell_type": "code",
   "execution_count": null,
   "id": "c2292fbf",
   "metadata": {
    "scrolled": true
   },
   "outputs": [],
   "source": [
    "# res_tiny = [i.strip() for i in re.sub('\"|}|{||\\[|\\]', \"\", answer).split(\",\")]"
   ]
  },
  {
   "cell_type": "markdown",
   "id": "b5849673",
   "metadata": {},
   "source": [
    "# 一些其他尝试\n",
    "\n",
    "N - Gram\n"
   ]
  },
  {
   "cell_type": "code",
   "execution_count": null,
   "id": "849fd60d",
   "metadata": {},
   "outputs": [],
   "source": [
    "# 暂时没有探索结果\n",
    "# all_text = re.sub('[^A-Za-z0-9\\.]+', ' ', text).lower().split(' ')\n",
    "# ng1 = collections.defaultdict(int)\n",
    "# ng2 = collections.defaultdict(int)\n",
    "# ng3 = collections.defaultdict(int)\n",
    "# ng4 = collections.defaultdict(int)\n",
    "# for i, j in enumerate(all_text):\n",
    "#     ng1[j] += 1\n",
    "#     if i > 0: ng2[(all_text[i-1], j)] += 1\n",
    "#     if i > 1: ng3[(all_text[i-2], all_text[i-1], j)] += 1\n",
    "#     if i > 2: ng4[(all_text[i-3], all_text[i-2], all_text[i-1], j)] += 1\n",
    "\n",
    "# def sort_feq(dic):\n",
    "#     return sorted([(k, v) for k, v in dic.items()], key=lambda x: x[1], reverse=True)"
   ]
  },
  {
   "cell_type": "markdown",
   "id": "ad64b84f",
   "metadata": {},
   "source": [
    "### 定义 Chat 类"
   ]
  },
  {
   "cell_type": "code",
   "execution_count": null,
   "id": "9e486417",
   "metadata": {},
   "outputs": [],
   "source": [
    "# def total_counts(response):\n",
    "#     tokens_nums = int(response[\"usage\"][\"total_tokens\"])\n",
    "#     price = 0.002 / 1000\n",
    "#     cost = \"{:.5f}\".format(price * tokens_nums * 7.5)\n",
    "#     print(f\"tokens: {tokens_nums}, cost: {cost}\")\n",
    "\n",
    "#     return float(cost)"
   ]
  },
  {
   "cell_type": "code",
   "execution_count": null,
   "id": "aaf30deb",
   "metadata": {},
   "outputs": [],
   "source": [
    "# class Chat:\n",
    "#     def __init__(self, conversation_list=[]):\n",
    "#         self.conversation_list = conversation_list\n",
    "#         self.costs_list = []\n",
    "\n",
    "#     def show_conversation(self, msg_list):\n",
    "#         for msg in msg_list[-2:]:\n",
    "#             if msg[\"role\"] == \"user\":\n",
    "#                 pass\n",
    "#             else:\n",
    "#                 message = msg[\"content\"]\n",
    "#                 print(f\"\\U0001f47D: {message}\\n\")\n",
    "#             print()\n",
    "\n",
    "#     def ask(self, prompt):\n",
    "#         self.conversation_list.append({\"role\": \"user\", \"content\": prompt})\n",
    "#         openai.api_key = \"sk-D1u13WweY1LhWLqv95Ml7e3y8f8ToSfsTkGnlgvSQLqZJptC\"\n",
    "#         response = openai.ChatCompletion.create(\n",
    "#             model=\"gpt-3.5-turbo\", messages=self.conversation_list\n",
    "#         )\n",
    "#         answer = response.choices[0].message[\"content\"]\n",
    "\n",
    "#         self.conversation_list.append({\"role\": \"assistant\", \"content\": answer})\n",
    "#         self.show_conversation(self.conversation_list)\n",
    "\n",
    "#         cost = total_counts(response)\n",
    "#         self.costs_list.append(cost)\n",
    "#         return answer\n",
    "#         print()"
   ]
  }
 ],
 "metadata": {
  "kernelspec": {
   "display_name": "Python 3 (ipykernel)",
   "language": "python",
   "name": "python3"
  },
  "language_info": {
   "codemirror_mode": {
    "name": "ipython",
    "version": 3
   },
   "file_extension": ".py",
   "mimetype": "text/x-python",
   "name": "python",
   "nbconvert_exporter": "python",
   "pygments_lexer": "ipython3",
   "version": "3.11.5"
  }
 },
 "nbformat": 4,
 "nbformat_minor": 5
}
