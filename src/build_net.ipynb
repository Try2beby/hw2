{
 "cells": [
  {
   "cell_type": "code",
   "execution_count": 4,
   "metadata": {},
   "outputs": [
    {
     "name": "stdout",
     "output_type": "stream",
     "text": [
      "# of relations:  4\n",
      "{'prerequisites', 'parent_content', 'co_presence', 'include'}\n",
      "# of structure relations:  79277\n"
     ]
    }
   ],
   "source": [
    "import os\n",
    "import json\n",
    "\n",
    "dataDir = \"../data/\"\n",
    "relationDir = os.path.join(dataDir, \"relations\")\n",
    "structureFile = os.path.join(relationDir, \"structure_relations.json\")\n",
    "\n",
    "# read file from structureFile\n",
    "relations = set()\n",
    "with open(structureFile, \"r\") as f:\n",
    "    structureRelations = json.load(f)\n",
    "    for idx, structureRelation in enumerate(structureRelations):\n",
    "        if structureRelation[1] == \"目录\":\n",
    "            structureRelations[idx][1] = \"parent_content\"\n",
    "        elif structureRelation[1] == \"前置\":\n",
    "            structureRelations[idx][1] = \"prerequisites\"\n",
    "        relations.add(structureRelations[idx][1])\n",
    "\n",
    "\n",
    "print(\"# of relations: \", len(relations))\n",
    "print(relations)\n",
    "\n",
    "print(\"# of structure relations: \", len(structureRelations))"
   ]
  },
  {
   "cell_type": "code",
   "execution_count": 5,
   "metadata": {},
   "outputs": [
    {
     "name": "stdout",
     "output_type": "stream",
     "text": [
      "# of nodes:  3864\n",
      "# of edges:  79277\n"
     ]
    }
   ],
   "source": [
    "import networkx as nx\n",
    "\n",
    "graphDir = os.path.join(dataDir, \"graph\")\n",
    "\n",
    "\n",
    "def build_graph(relations):\n",
    "    graph = nx.DiGraph()\n",
    "    for relation in relations:\n",
    "        graph.add_edge(relation[0], relation[2], relation=relation[1])\n",
    "    return graph\n",
    "\n",
    "\n",
    "graph = build_graph(structureRelations)\n",
    "# print # of nodes and edges\n",
    "print(\"# of nodes: \", graph.number_of_nodes())\n",
    "print(\"# of edges: \", graph.number_of_edges())\n",
    "\n",
    "# export graph to json file\n",
    "import json\n",
    "\n",
    "graphJsonFile = os.path.join(graphDir, \"structure_graph.json\")\n",
    "with open(graphJsonFile, \"w\") as f:\n",
    "    json.dump(nx.node_link_data(graph), f, ensure_ascii=False, indent=4)"
   ]
  },
  {
   "cell_type": "code",
   "execution_count": 7,
   "metadata": {},
   "outputs": [
    {
     "name": "stdout",
     "output_type": "stream",
     "text": [
      "79277\n",
      "('4.1 Overflow and Underflow', 'overflow', {'relation': 'include'})\n",
      "('4.1 Overflow and Underflow', 'evaluating a mathematical function', {'relation': 'include'})\n",
      "('4.1 Overflow and Underflow', 'exceptions', {'relation': 'include'})\n",
      "('4.1 Overflow and Underflow', 'bit patterns', {'relation': 'include'})\n",
      "('4.1 Overflow and Underflow', 'Overflow and Underflow', {'relation': 'include'})\n",
      "('4.1 Overflow and Underflow', 'underflow', {'relation': 'include'})\n",
      "('4.1 Overflow and Underflow', 'low-level libraries', {'relation': 'include'})\n",
      "('4.1 Overflow and Underflow', 'numerical error', {'relation': 'include'})\n",
      "('4.1 Overflow and Underflow', 'continuous math', {'relation': 'include'})\n",
      "('4.1 Overflow and Underflow', 'algorithms', {'relation': 'include'})\n",
      "('4.1 Overflow and Underflow', 'numerically stable', {'relation': 'include'})\n",
      "('4.1 Overflow and Underflow', 'optimization', {'relation': 'include'})\n",
      "('4.1 Overflow and Underflow', 'constant c', {'relation': 'include'})\n",
      "('4.1 Overflow and Underflow', 'software environments', {'relation': 'include'})\n",
      "('4.1 Overflow and Underflow', 'multinoulli distribution', {'relation': 'include'})\n",
      "('4.1 Overflow and Underflow', 'undefined', {'relation': 'include'})\n",
      "('4.1 Overflow and Underflow', 'adding or subtracting a scalar', {'relation': 'include'})\n",
      "('4.1 Overflow and Underflow', 'rounding error', {'relation': 'include'})\n",
      "('4.1 Overflow and Underflow', 'softmax function', {'relation': 'include'})\n",
      "('4.1 Overflow and Underflow', 'numerical computation', {'relation': 'include'})\n",
      "('4.1 Overflow and Underflow', 'finite amount of memory', {'relation': 'include'})\n",
      "('4.1 Overflow and Underflow', 'real numbers', {'relation': 'include'})\n",
      "('4.1 Overflow and Underflow', 'practice', {'relation': 'include'})\n",
      "('4.1 Overflow and Underflow', 'symbolic expression', {'relation': 'include'})\n",
      "('4.1 Overflow and Underflow', 'theory', {'relation': 'include'})\n",
      "('4.1 Overflow and Underflow', 'digital computer', {'relation': 'include'})\n",
      "('4.1 Overflow and Underflow', 'logarithm of zero', {'relation': 'include'})\n",
      "('4.1 Overflow and Underflow', 'iterative process', {'relation': 'include'})\n"
     ]
    }
   ],
   "source": [
    "# find all links connected to the node named \"Deep Learning\"\n",
    "links = graph.edges(data=True)\n",
    "print(len(links))\n",
    "for link in links:\n",
    "    if link[2][\"relation\"] == \"include\" and link[0] == \"4.1 Overflow and Underflow\":\n",
    "        print(link)"
   ]
  }
 ],
 "metadata": {
  "kernelspec": {
   "display_name": "myenv",
   "language": "python",
   "name": "python3"
  },
  "language_info": {
   "codemirror_mode": {
    "name": "ipython",
    "version": 3
   },
   "file_extension": ".py",
   "mimetype": "text/x-python",
   "name": "python",
   "nbconvert_exporter": "python",
   "pygments_lexer": "ipython3",
   "version": "3.11.5"
  }
 },
 "nbformat": 4,
 "nbformat_minor": 2
}
