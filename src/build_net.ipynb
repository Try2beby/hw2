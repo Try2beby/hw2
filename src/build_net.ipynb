{
 "cells": [
  {
   "cell_type": "code",
   "execution_count": 2,
   "metadata": {},
   "outputs": [
    {
     "name": "stdout",
     "output_type": "stream",
     "text": [
      "# of relations:  0\n",
      "set()\n",
      "# of structure relations:  221690\n"
     ]
    }
   ],
   "source": [
    "import os\n",
    "import json\n",
    "\n",
    "dataDir = \"../data/\"\n",
    "relationDir = os.path.join(dataDir, \"relations\")\n",
    "structureFile = os.path.join(relationDir, \"structure_relations.json\")\n",
    "\n",
    "# read file from structureFile\n",
    "relations = set()\n",
    "with open(structureFile, \"r\") as f:\n",
    "    structureRelations = json.load(f)\n",
    "    for idx, structureRelation in enumerate(structureRelations):\n",
    "        if structureRelation[1] == \"目录\":\n",
    "            structureRelations[idx][1] = \"parent_content\"\n",
    "        elif structureRelation[1] == \"前置\":\n",
    "            structureRelations[idx][1] = \"prerequisites\"\n",
    "\n",
    "\n",
    "print(\"# of relations: \", len(relations))\n",
    "print(relations)\n",
    "\n",
    "print(\"# of structure relations: \", len(structureRelations))"
   ]
  },
  {
   "cell_type": "code",
   "execution_count": 3,
   "metadata": {},
   "outputs": [
    {
     "name": "stdout",
     "output_type": "stream",
     "text": [
      "# of nodes:  6285\n",
      "# of edges:  221690\n"
     ]
    }
   ],
   "source": [
    "import networkx as nx\n",
    "\n",
    "graphDir = os.path.join(dataDir, \"graph\")\n",
    "\n",
    "\n",
    "def build_graph(relations):\n",
    "    graph = nx.DiGraph()\n",
    "    for relation in relations:\n",
    "        graph.add_edge(relation[0], relation[2], relation=relation[1])\n",
    "    return graph\n",
    "\n",
    "\n",
    "graph = build_graph(structureRelations)\n",
    "# print # of nodes and edges\n",
    "print(\"# of nodes: \", graph.number_of_nodes())\n",
    "print(\"# of edges: \", graph.number_of_edges())\n",
    "\n",
    "# # export graph to json file\n",
    "# import json\n",
    "\n",
    "# graphJsonFile = os.path.join(graphDir, \"structure_graph.json\")\n",
    "# with open(graphJsonFile, \"w\") as f:\n",
    "#     json.dump(nx.node_link_data(graph), f, ensure_ascii=False, indent=4)"
   ]
  },
  {
   "cell_type": "code",
   "execution_count": 4,
   "metadata": {},
   "outputs": [
    {
     "name": "stdout",
     "output_type": "stream",
     "text": [
      "41\n",
      "('Deep Learning', '1 Introduction', {'relation': 'parent_content'})\n",
      "('Deep Learning', '2 Linear Algebra', {'relation': 'parent_content'})\n",
      "('Deep Learning', '3 Probability and Information Theory', {'relation': 'parent_content'})\n",
      "('Deep Learning', '4 Numerical Computation', {'relation': 'parent_content'})\n",
      "('Deep Learning', '5 Machine Learning Basics', {'relation': 'parent_content'})\n",
      "('Deep Learning', '6 Deep Feedforward Networks', {'relation': 'parent_content'})\n",
      "('Deep Learning', '7 Regularization for Deep Learning', {'relation': 'parent_content'})\n",
      "('Deep Learning', '8 Optimization for Training Deep Models', {'relation': 'parent_content'})\n",
      "('Deep Learning', '9 Convolutional Networks', {'relation': 'parent_content'})\n",
      "('Deep Learning', '10 Sequence Modeling: Recurrent and Recursive Nets', {'relation': 'parent_content'})\n",
      "('Deep Learning', '11 Practical Methodology', {'relation': 'parent_content'})\n",
      "('Deep Learning', '12 Applications', {'relation': 'parent_content'})\n",
      "('Deep Learning', '13 Linear Factor Models', {'relation': 'parent_content'})\n",
      "('Deep Learning', '14 Autoencoders', {'relation': 'parent_content'})\n",
      "('Deep Learning', '15 Representation Learning', {'relation': 'parent_content'})\n",
      "('Deep Learning', '16 Structured Probabilistic Models for Deep Learning', {'relation': 'parent_content'})\n",
      "('Deep Learning', '17 Monte Carlo Methods', {'relation': 'parent_content'})\n",
      "('Deep Learning', '18 Confronting the Partition Function', {'relation': 'parent_content'})\n",
      "('Deep Learning', '19 Approximate Inference', {'relation': 'parent_content'})\n",
      "('Deep Learning', '20 Deep Generative Models', {'relation': 'parent_content'})\n"
     ]
    }
   ],
   "source": [
    "# find all links connected to the node named \"Deep Learning\"\n",
    "links = graph.edges(\"Deep Learning\", data=True)\n",
    "print(len(links))\n",
    "for link in links:\n",
    "    if link[2][\"relation\"] == \"parent_content\":\n",
    "        print(link)"
   ]
  }
 ],
 "metadata": {
  "kernelspec": {
   "display_name": "myenv",
   "language": "python",
   "name": "python3"
  },
  "language_info": {
   "codemirror_mode": {
    "name": "ipython",
    "version": 3
   },
   "file_extension": ".py",
   "mimetype": "text/x-python",
   "name": "python",
   "nbconvert_exporter": "python",
   "pygments_lexer": "ipython3",
   "version": "3.11.5"
  }
 },
 "nbformat": 4,
 "nbformat_minor": 2
}
