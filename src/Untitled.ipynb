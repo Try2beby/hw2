{
 "cells": [
  {
   "cell_type": "code",
   "execution_count": 48,
   "id": "1d350770-369f-4598-8164-e31407eaf81c",
   "metadata": {
    "tags": []
   },
   "outputs": [
    {
     "name": "stdout",
     "output_type": "stream",
     "text": [
      "2 1 1\n",
      "[1, 2, 3, 4, 8, 5, 6, 7, 10, 9, 2]\n",
      "3 3 2\n",
      "[1, 2, 2, 3, 8, 5, 6, 7, 10, 9, 4]\n",
      "8 8 7\n",
      "[1, 2, 2, 3, 4, 5, 6, 7, 8, 9, 10]\n",
      "4 4 3\n",
      "[1, 2, 2, 3, 4, 5, 6, 7, 8, 9, 10]\n",
      "5 5 4\n",
      "[1, 2, 2, 3, 4, 5, 6, 7, 8, 9, 10]\n",
      "6 6 5\n",
      "[1, 2, 2, 3, 4, 5, 6, 7, 8, 9, 10]\n",
      "9 9 8\n",
      "[1, 2, 2, 3, 4, 5, 6, 7, 8, 9, 10]\n"
     ]
    },
    {
     "data": {
      "text/plain": [
       "[1, 2, 2, 3, 4, 5, 6, 7, 8, 9, 10]"
      ]
     },
     "execution_count": 48,
     "metadata": {},
     "output_type": "execute_result"
    }
   ],
   "source": [
    "random_list = [2, 1, 3, 4, 8, 5, 6, 7, 10, 9, 2]\n",
    "def quick_sort(l, i, j):\n",
    "    if i >= j: return\n",
    "    s, e = i, j\n",
    "    pivot = l[s]\n",
    "    while i < j:\n",
    "        while l[j] >= pivot and j >= i: \n",
    "            j-=1\n",
    "        l[i], l[j] = l[j], l[i]\n",
    "        while l[i] < pivot and i < j:\n",
    "            i+=1\n",
    "        l[i], l[j] = l[j], l[i]\n",
    "    print(pivot, i, j)\n",
    "    print(l)\n",
    "    quick_sort(l, s, i-1)\n",
    "    quick_sort(l, i+1, e)\n",
    "    return l\n",
    "\n",
    "quick_sort(random_list, 0, len(random_list)-1)"
   ]
  },
  {
   "cell_type": "code",
   "execution_count": null,
   "id": "b87d0ac3-6107-4592-8afd-d5522d6a300b",
   "metadata": {},
   "outputs": [],
   "source": []
  }
 ],
 "metadata": {
  "kernelspec": {
   "display_name": "Python 3 (ipykernel)",
   "language": "python",
   "name": "python3"
  },
  "language_info": {
   "codemirror_mode": {
    "name": "ipython",
    "version": 3
   },
   "file_extension": ".py",
   "mimetype": "text/x-python",
   "name": "python",
   "nbconvert_exporter": "python",
   "pygments_lexer": "ipython3",
   "version": "3.11.4"
  }
 },
 "nbformat": 4,
 "nbformat_minor": 5
}
